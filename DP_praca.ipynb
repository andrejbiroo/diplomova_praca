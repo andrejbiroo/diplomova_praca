{
 "cells": [
  {
   "cell_type": "code",
   "execution_count": 276,
   "id": "fda5c944",
   "metadata": {},
   "outputs": [],
   "source": [
    "import pandas as pd\n",
    "from bs4 import BeautifulSoup\n",
    "import requests\n",
    "import json"
   ]
  },
  {
   "cell_type": "code",
   "execution_count": 277,
   "id": "cf036be6",
   "metadata": {},
   "outputs": [
    {
     "name": "stdout",
     "output_type": "stream",
     "text": [
      "\n",
      "<!doctype html>\n",
      "<!--[if lt IE 7]> <html class=\"no-js lt-ie9 lt-ie8 lt-ie7\" lang=\"en\"> <![endif]-->\n",
      "<!--[if IE 7]>    <html class=\"no-js lt-ie9 lt-ie8\" lang=\"en\"> <![endif]-->\n",
      "<!--[if IE 8]>    <html class=\"no-js lt-ie9\" lang=\"en\"> <![endif]-->\n",
      "<!--[if gt IE 8]><!-->\n",
      "<html class=\"no-js\" xmlns=\"http://www.w3.org/1999/xhtml\" xml:lang=\"sk-sk\" lang=\"sk-sk\" dir=\"ltr\" >\n",
      "<!--<![endif]-->\n",
      "<head>\n",
      "  <base href=\"https://www.ukf.sk/univerzita\" />\n",
      "\t<meta http-equiv=\"content-type\" content=\"text/html; charset=utf-8\" />\n",
      "\t<meta name=\"keywords\" content=\"Univerzita Konštantína Filozofa v Nitre, UKF v Nitre, Nitra, vysoká škola, štúdium, vzdelávanie, veda, výskum, vedecká kaviareň\" />\n",
      "\t<meta name=\"og:title\" content=\"O univerzite\" />\n",
      "\t<meta name=\"og:type\" content=\"article\" />\n",
      "\t<meta name=\"og:image\" content=\"https://www.ukf.sk/images/images/logo-ukf.png\" />\n",
      "\t<meta name=\"og:url\" content=\"https://www.ukf.sk/univerzita\" />\n",
      "\t<meta name=\"og:site_name\" content=\"Univerzita Konštantína Filozofa v Nitre\" />\n",
      "\t<meta n\n"
     ]
    }
   ],
   "source": [
    "r = requests.get(\"https://www.ukf.sk/univerzita\")\n",
    "\n",
    "r.encoding = 'utf-8'\n",
    "\n",
    "html = r.text\n",
    "\n",
    "print(html[:1000])"
   ]
  },
  {
   "cell_type": "code",
   "execution_count": 278,
   "id": "75de3b20",
   "metadata": {},
   "outputs": [
    {
     "name": "stdout",
     "output_type": "stream",
     "text": [
      "Jednou z hlavných činností univerzity je výskum. Je zameraný na získavanie pôvodných výsledkov smerujúcich k rozvoju poznania a zahŕňa aj aktivity zamerané na efektívne prepojenie vedeckého bádania so vzdelávacím procesom a na podporu odborného rastu zamestnancov. Vedeckovýskumná činnosť sa uskutočňuje predovšetkým prostredníctvom riešenia výskumných, kultúrno-edukačných a ďalších projektov, pričom nosným výstupom sú vedecké a odborné publikácie. Univerzita každoročne organizuje významné vedecké, umelecké a odborné podujatia, prostredníctvom ktorých sa realizuje prezentácia, propagácia a prenos poznatkov a dosiahnutých výsledkov z riešenia vedeckovýskumných projektov.\n"
     ]
    }
   ],
   "source": [
    "soup = BeautifulSoup(html, 'html.parser')\n",
    "\n",
    "text = soup.get_text()\n",
    "\n",
    "print(text[15650:16326])"
   ]
  },
  {
   "cell_type": "code",
   "execution_count": 279,
   "id": "eee40f53",
   "metadata": {},
   "outputs": [
    {
     "data": {
      "text/plain": [
       "'Jednou z hlavných činností univerzity je výskum. Je zameraný na získavanie pôvodných výsledkov smerujúcich k rozvoju poznania a zahŕňa aj aktivity zamerané na efektívne prepojenie vedeckého bádania so vzdelávacím procesom a na podporu odborného rastu zamestnancov. Vedeckovýskumná činnosť sa uskutočňuje predovšetkým prostredníctvom riešenia výskumných, kultúrno-edukačných a ďalších projektov, pričom nosným výstupom sú vedecké a odborné publikácie. Univerzita každoročne organizuje významné vedecké, umelecké a odborné podujatia, prostredníctvom ktorých sa realizuje prezentácia, propagácia a prenos poznatkov a dosiahnutých výsledkov z riešenia vedeckovýskumných projektov.'"
      ]
     },
     "execution_count": 279,
     "metadata": {},
     "output_type": "execute_result"
    }
   ],
   "source": [
    "pracovny_text = text[15650:16326]\n",
    "\n",
    "pracovny_text"
   ]
  },
  {
   "cell_type": "code",
   "execution_count": 280,
   "id": "4bb3a4ac",
   "metadata": {},
   "outputs": [
    {
     "data": {
      "text/plain": [
       "'{\\n \"model\": \"slovak-snk-ud-2.5-191206\",\\n \"acknowledgements\": [\\n  \"http://ufal.mff.cuni.cz/udpipe/1#udpipe_acknowledgements\",\\n  \"http://ufal.mff.cuni.cz/udpipe/1/models#universal_dependencies_25_models_acknowledgements\"\\n ],\\n \"result\": \"# newdoc\\\\n# newpar\\\\n# sent_id = 1\\\\n# text = Jednou z hlavných činností univerzity je výskum.\\\\n1\\\\tJednou\\\\tjeden\\\\tNUM\\\\tNFfs7\\\\tCase=Ins|Gender=Fem|Number=Sing\\\\t0\\\\troot\\\\t_\\\\t_\\\\n2\\\\tz\\\\tz\\\\tADP\\\\tEu2\\\\tAdpType=Prep|Case=Gen\\\\t4\\\\tcase\\\\t_\\\\t_\\\\n3\\\\thlavných\\\\thlavný\\\\tADJ\\\\tAAfp2x\\\\tCase=Gen|Degree=Pos|Gender=Fem|Number=Plur\\\\t4\\\\tamod\\\\t_\\\\t_\\\\n4\\\\tčinností\\\\tčinnosť\\\\tNOUN\\\\tSSfp2\\\\tCase=Gen|Gender=Fem|Number=Plur\\\\t1\\\\tnmod\\\\t_\\\\t_\\\\n5\\\\tuniverzity\\\\tuniverzita\\\\tNOUN\\\\tSSfs2\\\\tCase=Gen|Gender=Fem|Number=Sing\\\\t4\\\\tnmod\\\\t_\\\\t_\\\\n6\\\\tje\\\\tbyť\\\\tAUX\\\\tVKesc+\\\\tAspect=Imp|Mood=Ind|Number=Sing|Person=3|Polarity=Pos|Tense=Pres|VerbForm=Fin\\\\t1\\\\tcop\\\\t_\\\\t_\\\\n7\\\\tvýskum\\\\tvýskum\\\\tNOUN\\\\tSSns1\\\\tCase=Nom|Gender=Neut|Number=Sing\\\\t1\\\\tnsubj\\\\t_\\\\tSpaceAfter=No\\\\n8\\\\t.\\\\t.\\\\tPUNCT\\\\tZ\\\\t_\\\\t1\\\\tpunct\\\\t_\\\\t_\\\\n\\\\n# sent_id = 2\\\\n# text = Je zameraný na získavanie pôvodných výsledkov smerujúcich k rozvoju poznania a zahŕňa aj aktivity zamerané na efektívne prepojenie vedeckého bádania so vzdelávacím procesom a na podporu odborného rastu zamestnancov.\\\\n1\\\\tJe\\\\tbyť\\\\tAUX\\\\tVKesc+\\\\tAspect=Imp|Mood=Ind|Number=Sing|Person=3|Polarity=Pos|Tense=Pres|VerbForm=Fin\\\\t2\\\\tcop\\\\t_\\\\t_\\\\n2\\\\tzameraný\\\\tzameraný\\\\tADJ\\\\tGtis1x\\\\tAnimacy=Inan|Case=Nom|Degree=Pos|Gender=Masc|Number=Sing|Polarity=Pos|VerbForm=Part|Voice=Pass\\\\t0\\\\troot\\\\t_\\\\t_\\\\n3\\\\tna\\\\tna\\\\tADP\\\\tEu4\\\\tAdpType=Prep|Case=Acc\\\\t4\\\\tcase\\\\t_\\\\t_\\\\n4\\\\tzískavanie\\\\tzískavať\\\\tNOUN\\\\tSSns4\\\\tCase=Acc|Gender=Neut|Number=Sing\\\\t2\\\\tobl\\\\t_\\\\t_\\\\n5\\\\tpôvodných\\\\tpôvodný\\\\tADJ\\\\tAAip2x\\\\tAnimacy=Inan|Case=Gen|Degree=Pos|Gender=Masc|Number=Plur\\\\t6\\\\tamod\\\\t_\\\\t_\\\\n6\\\\tvýsledkov\\\\tvýsledok\\\\tNOUN\\\\tSSip2\\\\tAnimacy=Inan|Case=Gen|Gender=Masc|Number=Plur\\\\t4\\\\tnmod\\\\t_\\\\t_\\\\n7\\\\tsmerujúcich\\\\tsmerujúci\\\\tADJ\\\\tGtmp2x\\\\tAnimacy=Anim|Case=Gen|Degree=Pos|Gender=Masc|Number=Plur|Polarity=Pos|VerbForm=Part|Voice=Pass\\\\t6\\\\tamod\\\\t_\\\\t_\\\\n8\\\\tk\\\\tk\\\\tADP\\\\tEu3\\\\tAdpType=Prep|Case=Dat\\\\t9\\\\tcase\\\\t_\\\\t_\\\\n9\\\\trozvoju\\\\trozvoj\\\\tNOUN\\\\tSSis3\\\\tAnimacy=Inan|Case=Dat|Gender=Masc|Number=Sing\\\\t7\\\\tobl\\\\t_\\\\t_\\\\n10\\\\tpoznania\\\\tpoznanie\\\\tNOUN\\\\tSSns2\\\\tCase=Gen|Gender=Neut|Number=Sing\\\\t9\\\\tnmod\\\\t_\\\\t_\\\\n11\\\\ta\\\\ta\\\\tCCONJ\\\\tO\\\\t_\\\\t12\\\\tcc\\\\t_\\\\t_\\\\n12\\\\tzahŕňa\\\\tzahŕňať\\\\tVERB\\\\tVKesc+\\\\tAspect=Imp|Mood=Ind|Number=Sing|Person=3|Polarity=Pos|Tense=Pres|VerbForm=Fin\\\\t2\\\\tconj\\\\t_\\\\t_\\\\n13\\\\taj\\\\taj\\\\tPART\\\\tT\\\\t_\\\\t14\\\\tadvmod:emph\\\\t_\\\\t_\\\\n14\\\\taktivity\\\\taktivita\\\\tNOUN\\\\tSSfp4\\\\tCase=Acc|Gender=Fem|Number=Plur\\\\t12\\\\tobj\\\\t_\\\\t_\\\\n15\\\\tzamerané\\\\tzameraný\\\\tADJ\\\\tGtnp4x\\\\tCase=Acc|Degree=Pos|Gender=Neut|Number=Plur|Polarity=Pos|VerbForm=Part|Voice=Pass\\\\t14\\\\tamod\\\\t_\\\\t_\\\\n16\\\\tna\\\\tna\\\\tADP\\\\tEu4\\\\tAdpType=Prep|Case=Acc\\\\t18\\\\tcase\\\\t_\\\\t_\\\\n17\\\\tefektívne\\\\tefektívny\\\\tADJ\\\\tAAns4x\\\\tCase=Acc|Degree=Pos|Gender=Neut|Number=Sing\\\\t18\\\\tamod\\\\t_\\\\t_\\\\n18\\\\tprepojenie\\\\tprepojenie\\\\tNOUN\\\\tSSns4\\\\tCase=Acc|Gender=Neut|Number=Sing\\\\t15\\\\tobl:arg\\\\t_\\\\t_\\\\n19\\\\tvedeckého\\\\tvedecký\\\\tADJ\\\\tAAns2x\\\\tCase=Gen|Degree=Pos|Gender=Neut|Number=Sing\\\\t20\\\\tamod\\\\t_\\\\t_\\\\n20\\\\tbádania\\\\tbádanie\\\\tNOUN\\\\tSSns2\\\\tCase=Gen|Gender=Neut|Number=Sing\\\\t18\\\\tnmod\\\\t_\\\\t_\\\\n21\\\\tso\\\\ts\\\\tADP\\\\tEv7\\\\tAdpType=Voc|Case=Ins\\\\t23\\\\tcase\\\\t_\\\\t_\\\\n22\\\\tvzdelávacím\\\\tvzdelávací\\\\tADJ\\\\tAAis7x\\\\tAnimacy=Inan|Case=Ins|Degree=Pos|Gender=Masc|Number=Sing\\\\t23\\\\tamod\\\\t_\\\\t_\\\\n23\\\\tprocesom\\\\tproces\\\\tNOUN\\\\tSSis7\\\\tAnimacy=Inan|Case=Ins|Gender=Masc|Number=Sing\\\\t18\\\\tnmod\\\\t_\\\\t_\\\\n24\\\\ta\\\\ta\\\\tCCONJ\\\\tO\\\\t_\\\\t26\\\\tcc\\\\t_\\\\t_\\\\n25\\\\tna\\\\tna\\\\tADP\\\\tEu4\\\\tAdpType=Prep|Case=Acc\\\\t26\\\\tcase\\\\t_\\\\t_\\\\n26\\\\tpodporu\\\\tpodpora\\\\tNOUN\\\\tSSfs4\\\\tCase=Acc|Gender=Fem|Number=Sing\\\\t18\\\\tconj\\\\t_\\\\t_\\\\n27\\\\todborného\\\\todborný\\\\tADJ\\\\tAAis2x\\\\tAnimacy=Inan|Case=Gen|Degree=Pos|Gender=Masc|Number=Sing\\\\t28\\\\tamod\\\\t_\\\\t_\\\\n28\\\\trastu\\\\trast\\\\tNOUN\\\\tSSis2\\\\tAnimacy=Inan|Case=Gen|Gender=Masc|Number=Sing\\\\t26\\\\tnmod\\\\t_\\\\t_\\\\n29\\\\tzamestnancov\\\\tzamestnanec\\\\tNOUN\\\\tSSmp2\\\\tAnimacy=Anim|Case=Gen|Gender=Masc|Number=Plur\\\\t28\\\\tnmod\\\\t_\\\\tSpaceAfter=No\\\\n30\\\\t.\\\\t.\\\\tPUNCT\\\\tZ\\\\t_\\\\t2\\\\tpunct\\\\t_\\\\t_\\\\n\\\\n# sent_id = 3\\\\n# text = Vedeckovýskumná činnosť sa uskutočňuje predovšetkým prostredníctvom riešenia výskumných, kultúrno-edukačných a ďalších projektov, pričom nosným výstupom sú vedecké a odborné publikácie.\\\\n1\\\\tVedeckovýskumná\\\\tVedeckovýskumný\\\\tADJ\\\\tAAfs1x\\\\tCase=Nom|Degree=Pos|Gender=Fem|Number=Sing\\\\t2\\\\tamod\\\\t_\\\\t_\\\\n2\\\\tčinnosť\\\\tčinnosť\\\\tNOUN\\\\tSSfs1\\\\tCase=Nom|Gender=Fem|Number=Sing\\\\t4\\\\tnsubj\\\\t_\\\\t_\\\\n3\\\\tsa\\\\tsa\\\\tPRON\\\\tR\\\\tPronType=Prs|Reflex=Yes\\\\t4\\\\texpl:pv\\\\t_\\\\t_\\\\n4\\\\tuskutočňuje\\\\tuskutočňovať\\\\tVERB\\\\tVKesc+\\\\tAspect=Imp|Mood=Ind|Number=Sing|Person=3|Polarity=Pos|Tense=Pres|VerbForm=Fin\\\\t0\\\\troot\\\\t_\\\\t_\\\\n5\\\\tpredovšetkým\\\\tpredovšetkým\\\\tPART\\\\tT\\\\t_\\\\t7\\\\tadvmod:emph\\\\t_\\\\t_\\\\n6\\\\tprostredníctvom\\\\tprostredníctvom\\\\tADP\\\\tEu2\\\\tAdpType=Prep|Case=Gen\\\\t7\\\\tcase\\\\t_\\\\t_\\\\n7\\\\triešenia\\\\triešenie\\\\tNOUN\\\\tSSns2\\\\tCase=Gen|Gender=Neut|Number=Sing\\\\t8\\\\tobl\\\\t_\\\\t_\\\\n8\\\\tvýskumných\\\\tvýskumný\\\\tADJ\\\\tAAip2x\\\\tAnimacy=Inan|Case=Gen|Degree=Pos|Gender=Masc|Number=Plur\\\\t13\\\\tamod\\\\t_\\\\tSpaceAfter=No\\\\n9\\\\t,\\\\t,\\\\tPUNCT\\\\tZ\\\\t_\\\\t10\\\\tpunct\\\\t_\\\\t_\\\\n10\\\\tkultúrno-edukačných\\\\tkultúrno-edukačný\\\\tADJ\\\\tAAip2x\\\\tAnimacy=Inan|Case=Gen|Degree=Pos|Gender=Masc|Number=Plur\\\\t8\\\\tconj\\\\t_\\\\t_\\\\n11\\\\ta\\\\ta\\\\tCCONJ\\\\tO\\\\t_\\\\t12\\\\tcc\\\\t_\\\\t_\\\\n12\\\\tďalších\\\\tďalší\\\\tADJ\\\\tAAmp4x\\\\tAnimacy=Anim|Case=Acc|Degree=Pos|Gender=Masc|Number=Plur\\\\t8\\\\tconj\\\\t_\\\\t_\\\\n13\\\\tprojektov\\\\tprojekt\\\\tNOUN\\\\tSSmp4\\\\tAnimacy=Anim|Case=Acc|Gender=Masc|Number=Plur\\\\t4\\\\tobj\\\\t_\\\\tSpaceAfter=No\\\\n14\\\\t,\\\\t,\\\\tPUNCT\\\\tZ\\\\t_\\\\t17\\\\tpunct\\\\t_\\\\t_\\\\n15\\\\tpričom\\\\tpričom\\\\tCCONJ\\\\tO\\\\t_\\\\t17\\\\tcc\\\\t_\\\\t_\\\\n16\\\\tnosným\\\\tnosný\\\\tADJ\\\\tAAis7x\\\\tAnimacy=Inan|Case=Ins|Degree=Pos|Gender=Masc|Number=Sing\\\\t17\\\\tamod\\\\t_\\\\t_\\\\n17\\\\tvýstupom\\\\tvýstup\\\\tNOUN\\\\tSSis7\\\\tAnimacy=Inan|Case=Ins|Gender=Masc|Number=Sing\\\\t4\\\\tconj\\\\t_\\\\t_\\\\n18\\\\tsú\\\\tbyť\\\\tAUX\\\\tVKepc+\\\\tAspect=Imp|Mood=Ind|Number=Plur|Person=3|Polarity=Pos|Tense=Pres|VerbForm=Fin\\\\t17\\\\tcop\\\\t_\\\\t_\\\\n19\\\\tvedecké\\\\tvedecký\\\\tADJ\\\\tAAfp1x\\\\tCase=Nom|Degree=Pos|Gender=Fem|Number=Plur\\\\t22\\\\tamod\\\\t_\\\\t_\\\\n20\\\\ta\\\\ta\\\\tCCONJ\\\\tO\\\\t_\\\\t21\\\\tcc\\\\t_\\\\t_\\\\n21\\\\todborné\\\\todborný\\\\tADJ\\\\tAAfp1x\\\\tCase=Nom|Degree=Pos|Gender=Fem|Number=Plur\\\\t19\\\\tconj\\\\t_\\\\t_\\\\n22\\\\tpublikácie\\\\tpublikácia\\\\tNOUN\\\\tSSfp1\\\\tCase=Nom|Gender=Fem|Number=Plur\\\\t17\\\\tnsubj\\\\t_\\\\tSpaceAfter=No\\\\n23\\\\t.\\\\t.\\\\tPUNCT\\\\tZ\\\\t_\\\\t4\\\\tpunct\\\\t_\\\\t_\\\\n\\\\n# sent_id = 4\\\\n# text = Univerzita každoročne organizuje významné vedecké, umelecké a odborné podujatia, prostredníctvom ktorých sa realizuje prezentácia, propagácia a prenos poznatkov a dosiahnutých výsledkov z riešenia vedeckovýskumných projektov.\\\\n1\\\\tUniverzita\\\\tUniverzita\\\\tNOUN\\\\tSSfs1\\\\tCase=Nom|Gender=Fem|Number=Sing\\\\t3\\\\tnsubj\\\\t_\\\\t_\\\\n2\\\\tkaždoročne\\\\tkaždoročne\\\\tADV\\\\tDx\\\\tDegree=Pos\\\\t3\\\\tadvmod\\\\t_\\\\t_\\\\n3\\\\torganizuje\\\\torganizovať\\\\tVERB\\\\tVKesc+\\\\tAspect=Imp|Mood=Ind|Number=Sing|Person=3|Polarity=Pos|Tense=Pres|VerbForm=Fin\\\\t0\\\\troot\\\\t_\\\\t_\\\\n4\\\\tvýznamné\\\\tvýznamný\\\\tADJ\\\\tAAfp4x\\\\tCase=Acc|Degree=Pos|Gender=Fem|Number=Plur\\\\t10\\\\tamod\\\\t_\\\\t_\\\\n5\\\\tvedecké\\\\tvedecký\\\\tADJ\\\\tAAfp4x\\\\tCase=Acc|Degree=Pos|Gender=Fem|Number=Plur\\\\t10\\\\tamod\\\\t_\\\\tSpaceAfter=No\\\\n6\\\\t,\\\\t,\\\\tPUNCT\\\\tZ\\\\t_\\\\t7\\\\tpunct\\\\t_\\\\t_\\\\n7\\\\tumelecké\\\\tumelecký\\\\tADJ\\\\tAAfp4x\\\\tCase=Acc|Degree=Pos|Gender=Fem|Number=Plur\\\\t5\\\\tconj\\\\t_\\\\t_\\\\n8\\\\ta\\\\ta\\\\tCCONJ\\\\tO\\\\t_\\\\t9\\\\tcc\\\\t_\\\\t_\\\\n9\\\\todborné\\\\todborný\\\\tADJ\\\\tGtfp1x\\\\tCase=Nom|Degree=Pos|Gender=Fem|Number=Plur|Polarity=Pos|VerbForm=Part|Voice=Pass\\\\t5\\\\tconj\\\\t_\\\\t_\\\\n10\\\\tpodujatia\\\\tpodujatie\\\\tNOUN\\\\tSSfs1\\\\tCase=Nom|Gender=Fem|Number=Sing\\\\t3\\\\tnsubj\\\\t_\\\\tSpaceAfter=No\\\\n11\\\\t,\\\\t,\\\\tPUNCT\\\\tZ\\\\t_\\\\t15\\\\tpunct\\\\t_\\\\t_\\\\n12\\\\tprostredníctvom\\\\tprostredníctvom\\\\tADP\\\\tEu2\\\\tAdpType=Prep|Case=Gen\\\\t13\\\\tcase\\\\t_\\\\t_\\\\n13\\\\tktorých\\\\tktorý\\\\tDET\\\\tPAmp2\\\\tAnimacy=Anim|Case=Gen|Gender=Masc|Number=Plur|PronType=Int,Rel\\\\t15\\\\tobl\\\\t_\\\\t_\\\\n14\\\\tsa\\\\tsa\\\\tPRON\\\\tR\\\\tPronType=Prs|Reflex=Yes\\\\t15\\\\texpl:pv\\\\t_\\\\t_\\\\n15\\\\trealizuje\\\\trealizovať\\\\tVERB\\\\tVKesc+\\\\tAspect=Imp|Mood=Ind|Number=Sing|Person=3|Polarity=Pos|Tense=Pres|VerbForm=Fin\\\\t10\\\\tacl\\\\t_\\\\t_\\\\n16\\\\tprezentácia\\\\tprezentácia\\\\tNOUN\\\\tSSfs1\\\\tCase=Nom|Gender=Fem|Number=Sing\\\\t15\\\\tnsubj\\\\t_\\\\tSpaceAfter=No\\\\n17\\\\t,\\\\t,\\\\tPUNCT\\\\tZ\\\\t_\\\\t18\\\\tpunct\\\\t_\\\\t_\\\\n18\\\\tpropagácia\\\\tpropagácia\\\\tNOUN\\\\tSSfs1\\\\tCase=Nom|Gender=Fem|Number=Sing\\\\t16\\\\tconj\\\\t_\\\\t_\\\\n19\\\\ta\\\\ta\\\\tCCONJ\\\\tO\\\\t_\\\\t21\\\\tcc\\\\t_\\\\t_\\\\n20\\\\tprenos\\\\tprenos\\\\tADP\\\\tEu2\\\\tAdpType=Prep|Case=Gen\\\\t21\\\\tcase\\\\t_\\\\t_\\\\n21\\\\tpoznatkov\\\\tpoznatok\\\\tNOUN\\\\tSSip2\\\\tAnimacy=Inan|Case=Gen|Gender=Masc|Number=Plur\\\\t16\\\\tconj\\\\t_\\\\t_\\\\n22\\\\ta\\\\ta\\\\tCCONJ\\\\tO\\\\t_\\\\t24\\\\tcc\\\\t_\\\\t_\\\\n23\\\\tdosiahnutých\\\\tdosiahnutý\\\\tDET\\\\tPFip2\\\\tAnimacy=Inan|Case=Gen|Gender=Masc|Number=Plur|PronType=Dem\\\\t24\\\\tdet\\\\t_\\\\t_\\\\n24\\\\tvýsledkov\\\\tvýsledok\\\\tNOUN\\\\tSSip2\\\\tAnimacy=Inan|Case=Gen|Gender=Masc|Number=Plur\\\\t16\\\\tconj\\\\t_\\\\t_\\\\n25\\\\tz\\\\tz\\\\tADP\\\\tEu2\\\\tAdpType=Prep|Case=Gen\\\\t26\\\\tcase\\\\t_\\\\t_\\\\n26\\\\triešenia\\\\triešenie\\\\tNOUN\\\\tSSns2\\\\tCase=Gen|Gender=Neut|Number=Sing\\\\t16\\\\tnmod\\\\t_\\\\t_\\\\n27\\\\tvedeckovýskumných\\\\tvedeckovýskumný\\\\tADJ\\\\tAAip2x\\\\tAnimacy=Inan|Case=Gen|Degree=Pos|Gender=Masc|Number=Plur\\\\t28\\\\tamod\\\\t_\\\\t_\\\\n28\\\\tprojektov\\\\tprojekt\\\\tNOUN\\\\tSSip2\\\\tAnimacy=Inan|Case=Gen|Gender=Masc|Number=Plur\\\\t26\\\\tnmod\\\\t_\\\\tSpaceAfter=No\\\\n29\\\\t.\\\\t.\\\\tPUNCT\\\\tZ\\\\t_\\\\t3\\\\tpunct\\\\t_\\\\tSpaceAfter=No\\\\n\\\\n\"\\n}\\n'"
      ]
     },
     "execution_count": 280,
     "metadata": {},
     "output_type": "execute_result"
    }
   ],
   "source": [
    "response = requests.get(\"http://lindat.mff.cuni.cz/services/udpipe/api/process?tokenizer&tagger&parser&data=\"+pracovny_text+\"&model=slovak-snk-ud-2.5-191206\")\n",
    "\n",
    "response.text"
   ]
  },
  {
   "cell_type": "code",
   "execution_count": 281,
   "id": "bee14bfb",
   "metadata": {},
   "outputs": [
    {
     "data": {
      "text/plain": [
       "'# newdoc\\n# newpar\\n# sent_id = 1\\n# text = Jednou z hlavných činností univerzity je výskum.\\n1\\tJednou\\tjeden\\tNUM\\tNFfs7\\tCase=Ins|Gender=Fem|Number=Sing\\t0\\troot\\t_\\t_\\n2\\tz\\tz\\tADP\\tEu2\\tAdpType=Prep|Case=Gen\\t4\\tcase\\t_\\t_\\n3\\thlavných\\thlavný\\tADJ\\tAAfp2x\\tCase=Gen|Degree=Pos|Gender=Fem|Number=Plur\\t4\\tamod\\t_\\t_\\n4\\tčinností\\tčinnosť\\tNOUN\\tSSfp2\\tCase=Gen|Gender=Fem|Number=Plur\\t1\\tnmod\\t_\\t_\\n5\\tuniverzity\\tuniverzita\\tNOUN\\tSSfs2\\tCase=Gen|Gender=Fem|Number=Sing\\t4\\tnmod\\t_\\t_\\n6\\tje\\tbyť\\tAUX\\tVKesc+\\tAspect=Imp|Mood=Ind|Number=Sing|Person=3|Polarity=Pos|Tense=Pres|VerbForm=Fin\\t1\\tcop\\t_\\t_\\n7\\tvýskum\\tvýskum\\tNOUN\\tSSns1\\tCase=Nom|Gender=Neut|Number=Sing\\t1\\tnsubj\\t_\\tSpaceAfter=No\\n8\\t.\\t.\\tPUNCT\\tZ\\t_\\t1\\tpunct\\t_\\t_\\n\\n# sent_id = 2\\n# text = Je zameraný na získavanie pôvodných výsledkov smerujúcich k rozvoju poznania a zahŕňa aj aktivity zamerané na efektívne prepojenie vedeckého bádania so vzdelávacím procesom a na podporu odborného rastu zamestnancov.\\n1\\tJe\\tbyť\\tAUX\\tVKesc+\\tAspect=Imp|Mood=Ind|Number=Sing|Person=3|Polarity=Pos|Tense=Pres|VerbForm=Fin\\t2\\tcop\\t_\\t_\\n2\\tzameraný\\tzameraný\\tADJ\\tGtis1x\\tAnimacy=Inan|Case=Nom|Degree=Pos|Gender=Masc|Number=Sing|Polarity=Pos|VerbForm=Part|Voice=Pass\\t0\\troot\\t_\\t_\\n3\\tna\\tna\\tADP\\tEu4\\tAdpType=Prep|Case=Acc\\t4\\tcase\\t_\\t_\\n4\\tzískavanie\\tzískavať\\tNOUN\\tSSns4\\tCase=Acc|Gender=Neut|Number=Sing\\t2\\tobl\\t_\\t_\\n5\\tpôvodných\\tpôvodný\\tADJ\\tAAip2x\\tAnimacy=Inan|Case=Gen|Degree=Pos|Gender=Masc|Number=Plur\\t6\\tamod\\t_\\t_\\n6\\tvýsledkov\\tvýsledok\\tNOUN\\tSSip2\\tAnimacy=Inan|Case=Gen|Gender=Masc|Number=Plur\\t4\\tnmod\\t_\\t_\\n7\\tsmerujúcich\\tsmerujúci\\tADJ\\tGtmp2x\\tAnimacy=Anim|Case=Gen|Degree=Pos|Gender=Masc|Number=Plur|Polarity=Pos|VerbForm=Part|Voice=Pass\\t6\\tamod\\t_\\t_\\n8\\tk\\tk\\tADP\\tEu3\\tAdpType=Prep|Case=Dat\\t9\\tcase\\t_\\t_\\n9\\trozvoju\\trozvoj\\tNOUN\\tSSis3\\tAnimacy=Inan|Case=Dat|Gender=Masc|Number=Sing\\t7\\tobl\\t_\\t_\\n10\\tpoznania\\tpoznanie\\tNOUN\\tSSns2\\tCase=Gen|Gender=Neut|Number=Sing\\t9\\tnmod\\t_\\t_\\n11\\ta\\ta\\tCCONJ\\tO\\t_\\t12\\tcc\\t_\\t_\\n12\\tzahŕňa\\tzahŕňať\\tVERB\\tVKesc+\\tAspect=Imp|Mood=Ind|Number=Sing|Person=3|Polarity=Pos|Tense=Pres|VerbForm=Fin\\t2\\tconj\\t_\\t_\\n13\\taj\\taj\\tPART\\tT\\t_\\t14\\tadvmod:emph\\t_\\t_\\n14\\taktivity\\taktivita\\tNOUN\\tSSfp4\\tCase=Acc|Gender=Fem|Number=Plur\\t12\\tobj\\t_\\t_\\n15\\tzamerané\\tzameraný\\tADJ\\tGtnp4x\\tCase=Acc|Degree=Pos|Gender=Neut|Number=Plur|Polarity=Pos|VerbForm=Part|Voice=Pass\\t14\\tamod\\t_\\t_\\n16\\tna\\tna\\tADP\\tEu4\\tAdpType=Prep|Case=Acc\\t18\\tcase\\t_\\t_\\n17\\tefektívne\\tefektívny\\tADJ\\tAAns4x\\tCase=Acc|Degree=Pos|Gender=Neut|Number=Sing\\t18\\tamod\\t_\\t_\\n18\\tprepojenie\\tprepojenie\\tNOUN\\tSSns4\\tCase=Acc|Gender=Neut|Number=Sing\\t15\\tobl:arg\\t_\\t_\\n19\\tvedeckého\\tvedecký\\tADJ\\tAAns2x\\tCase=Gen|Degree=Pos|Gender=Neut|Number=Sing\\t20\\tamod\\t_\\t_\\n20\\tbádania\\tbádanie\\tNOUN\\tSSns2\\tCase=Gen|Gender=Neut|Number=Sing\\t18\\tnmod\\t_\\t_\\n21\\tso\\ts\\tADP\\tEv7\\tAdpType=Voc|Case=Ins\\t23\\tcase\\t_\\t_\\n22\\tvzdelávacím\\tvzdelávací\\tADJ\\tAAis7x\\tAnimacy=Inan|Case=Ins|Degree=Pos|Gender=Masc|Number=Sing\\t23\\tamod\\t_\\t_\\n23\\tprocesom\\tproces\\tNOUN\\tSSis7\\tAnimacy=Inan|Case=Ins|Gender=Masc|Number=Sing\\t18\\tnmod\\t_\\t_\\n24\\ta\\ta\\tCCONJ\\tO\\t_\\t26\\tcc\\t_\\t_\\n25\\tna\\tna\\tADP\\tEu4\\tAdpType=Prep|Case=Acc\\t26\\tcase\\t_\\t_\\n26\\tpodporu\\tpodpora\\tNOUN\\tSSfs4\\tCase=Acc|Gender=Fem|Number=Sing\\t18\\tconj\\t_\\t_\\n27\\todborného\\todborný\\tADJ\\tAAis2x\\tAnimacy=Inan|Case=Gen|Degree=Pos|Gender=Masc|Number=Sing\\t28\\tamod\\t_\\t_\\n28\\trastu\\trast\\tNOUN\\tSSis2\\tAnimacy=Inan|Case=Gen|Gender=Masc|Number=Sing\\t26\\tnmod\\t_\\t_\\n29\\tzamestnancov\\tzamestnanec\\tNOUN\\tSSmp2\\tAnimacy=Anim|Case=Gen|Gender=Masc|Number=Plur\\t28\\tnmod\\t_\\tSpaceAfter=No\\n30\\t.\\t.\\tPUNCT\\tZ\\t_\\t2\\tpunct\\t_\\t_\\n\\n# sent_id = 3\\n# text = Vedeckovýskumná činnosť sa uskutočňuje predovšetkým prostredníctvom riešenia výskumných, kultúrno-edukačných a ďalších projektov, pričom nosným výstupom sú vedecké a odborné publikácie.\\n1\\tVedeckovýskumná\\tVedeckovýskumný\\tADJ\\tAAfs1x\\tCase=Nom|Degree=Pos|Gender=Fem|Number=Sing\\t2\\tamod\\t_\\t_\\n2\\tčinnosť\\tčinnosť\\tNOUN\\tSSfs1\\tCase=Nom|Gender=Fem|Number=Sing\\t4\\tnsubj\\t_\\t_\\n3\\tsa\\tsa\\tPRON\\tR\\tPronType=Prs|Reflex=Yes\\t4\\texpl:pv\\t_\\t_\\n4\\tuskutočňuje\\tuskutočňovať\\tVERB\\tVKesc+\\tAspect=Imp|Mood=Ind|Number=Sing|Person=3|Polarity=Pos|Tense=Pres|VerbForm=Fin\\t0\\troot\\t_\\t_\\n5\\tpredovšetkým\\tpredovšetkým\\tPART\\tT\\t_\\t7\\tadvmod:emph\\t_\\t_\\n6\\tprostredníctvom\\tprostredníctvom\\tADP\\tEu2\\tAdpType=Prep|Case=Gen\\t7\\tcase\\t_\\t_\\n7\\triešenia\\triešenie\\tNOUN\\tSSns2\\tCase=Gen|Gender=Neut|Number=Sing\\t8\\tobl\\t_\\t_\\n8\\tvýskumných\\tvýskumný\\tADJ\\tAAip2x\\tAnimacy=Inan|Case=Gen|Degree=Pos|Gender=Masc|Number=Plur\\t13\\tamod\\t_\\tSpaceAfter=No\\n9\\t,\\t,\\tPUNCT\\tZ\\t_\\t10\\tpunct\\t_\\t_\\n10\\tkultúrno-edukačných\\tkultúrno-edukačný\\tADJ\\tAAip2x\\tAnimacy=Inan|Case=Gen|Degree=Pos|Gender=Masc|Number=Plur\\t8\\tconj\\t_\\t_\\n11\\ta\\ta\\tCCONJ\\tO\\t_\\t12\\tcc\\t_\\t_\\n12\\tďalších\\tďalší\\tADJ\\tAAmp4x\\tAnimacy=Anim|Case=Acc|Degree=Pos|Gender=Masc|Number=Plur\\t8\\tconj\\t_\\t_\\n13\\tprojektov\\tprojekt\\tNOUN\\tSSmp4\\tAnimacy=Anim|Case=Acc|Gender=Masc|Number=Plur\\t4\\tobj\\t_\\tSpaceAfter=No\\n14\\t,\\t,\\tPUNCT\\tZ\\t_\\t17\\tpunct\\t_\\t_\\n15\\tpričom\\tpričom\\tCCONJ\\tO\\t_\\t17\\tcc\\t_\\t_\\n16\\tnosným\\tnosný\\tADJ\\tAAis7x\\tAnimacy=Inan|Case=Ins|Degree=Pos|Gender=Masc|Number=Sing\\t17\\tamod\\t_\\t_\\n17\\tvýstupom\\tvýstup\\tNOUN\\tSSis7\\tAnimacy=Inan|Case=Ins|Gender=Masc|Number=Sing\\t4\\tconj\\t_\\t_\\n18\\tsú\\tbyť\\tAUX\\tVKepc+\\tAspect=Imp|Mood=Ind|Number=Plur|Person=3|Polarity=Pos|Tense=Pres|VerbForm=Fin\\t17\\tcop\\t_\\t_\\n19\\tvedecké\\tvedecký\\tADJ\\tAAfp1x\\tCase=Nom|Degree=Pos|Gender=Fem|Number=Plur\\t22\\tamod\\t_\\t_\\n20\\ta\\ta\\tCCONJ\\tO\\t_\\t21\\tcc\\t_\\t_\\n21\\todborné\\todborný\\tADJ\\tAAfp1x\\tCase=Nom|Degree=Pos|Gender=Fem|Number=Plur\\t19\\tconj\\t_\\t_\\n22\\tpublikácie\\tpublikácia\\tNOUN\\tSSfp1\\tCase=Nom|Gender=Fem|Number=Plur\\t17\\tnsubj\\t_\\tSpaceAfter=No\\n23\\t.\\t.\\tPUNCT\\tZ\\t_\\t4\\tpunct\\t_\\t_\\n\\n# sent_id = 4\\n# text = Univerzita každoročne organizuje významné vedecké, umelecké a odborné podujatia, prostredníctvom ktorých sa realizuje prezentácia, propagácia a prenos poznatkov a dosiahnutých výsledkov z riešenia vedeckovýskumných projektov.\\n1\\tUniverzita\\tUniverzita\\tNOUN\\tSSfs1\\tCase=Nom|Gender=Fem|Number=Sing\\t3\\tnsubj\\t_\\t_\\n2\\tkaždoročne\\tkaždoročne\\tADV\\tDx\\tDegree=Pos\\t3\\tadvmod\\t_\\t_\\n3\\torganizuje\\torganizovať\\tVERB\\tVKesc+\\tAspect=Imp|Mood=Ind|Number=Sing|Person=3|Polarity=Pos|Tense=Pres|VerbForm=Fin\\t0\\troot\\t_\\t_\\n4\\tvýznamné\\tvýznamný\\tADJ\\tAAfp4x\\tCase=Acc|Degree=Pos|Gender=Fem|Number=Plur\\t10\\tamod\\t_\\t_\\n5\\tvedecké\\tvedecký\\tADJ\\tAAfp4x\\tCase=Acc|Degree=Pos|Gender=Fem|Number=Plur\\t10\\tamod\\t_\\tSpaceAfter=No\\n6\\t,\\t,\\tPUNCT\\tZ\\t_\\t7\\tpunct\\t_\\t_\\n7\\tumelecké\\tumelecký\\tADJ\\tAAfp4x\\tCase=Acc|Degree=Pos|Gender=Fem|Number=Plur\\t5\\tconj\\t_\\t_\\n8\\ta\\ta\\tCCONJ\\tO\\t_\\t9\\tcc\\t_\\t_\\n9\\todborné\\todborný\\tADJ\\tGtfp1x\\tCase=Nom|Degree=Pos|Gender=Fem|Number=Plur|Polarity=Pos|VerbForm=Part|Voice=Pass\\t5\\tconj\\t_\\t_\\n10\\tpodujatia\\tpodujatie\\tNOUN\\tSSfs1\\tCase=Nom|Gender=Fem|Number=Sing\\t3\\tnsubj\\t_\\tSpaceAfter=No\\n11\\t,\\t,\\tPUNCT\\tZ\\t_\\t15\\tpunct\\t_\\t_\\n12\\tprostredníctvom\\tprostredníctvom\\tADP\\tEu2\\tAdpType=Prep|Case=Gen\\t13\\tcase\\t_\\t_\\n13\\tktorých\\tktorý\\tDET\\tPAmp2\\tAnimacy=Anim|Case=Gen|Gender=Masc|Number=Plur|PronType=Int,Rel\\t15\\tobl\\t_\\t_\\n14\\tsa\\tsa\\tPRON\\tR\\tPronType=Prs|Reflex=Yes\\t15\\texpl:pv\\t_\\t_\\n15\\trealizuje\\trealizovať\\tVERB\\tVKesc+\\tAspect=Imp|Mood=Ind|Number=Sing|Person=3|Polarity=Pos|Tense=Pres|VerbForm=Fin\\t10\\tacl\\t_\\t_\\n16\\tprezentácia\\tprezentácia\\tNOUN\\tSSfs1\\tCase=Nom|Gender=Fem|Number=Sing\\t15\\tnsubj\\t_\\tSpaceAfter=No\\n17\\t,\\t,\\tPUNCT\\tZ\\t_\\t18\\tpunct\\t_\\t_\\n18\\tpropagácia\\tpropagácia\\tNOUN\\tSSfs1\\tCase=Nom|Gender=Fem|Number=Sing\\t16\\tconj\\t_\\t_\\n19\\ta\\ta\\tCCONJ\\tO\\t_\\t21\\tcc\\t_\\t_\\n20\\tprenos\\tprenos\\tADP\\tEu2\\tAdpType=Prep|Case=Gen\\t21\\tcase\\t_\\t_\\n21\\tpoznatkov\\tpoznatok\\tNOUN\\tSSip2\\tAnimacy=Inan|Case=Gen|Gender=Masc|Number=Plur\\t16\\tconj\\t_\\t_\\n22\\ta\\ta\\tCCONJ\\tO\\t_\\t24\\tcc\\t_\\t_\\n23\\tdosiahnutých\\tdosiahnutý\\tDET\\tPFip2\\tAnimacy=Inan|Case=Gen|Gender=Masc|Number=Plur|PronType=Dem\\t24\\tdet\\t_\\t_\\n24\\tvýsledkov\\tvýsledok\\tNOUN\\tSSip2\\tAnimacy=Inan|Case=Gen|Gender=Masc|Number=Plur\\t16\\tconj\\t_\\t_\\n25\\tz\\tz\\tADP\\tEu2\\tAdpType=Prep|Case=Gen\\t26\\tcase\\t_\\t_\\n26\\triešenia\\triešenie\\tNOUN\\tSSns2\\tCase=Gen|Gender=Neut|Number=Sing\\t16\\tnmod\\t_\\t_\\n27\\tvedeckovýskumných\\tvedeckovýskumný\\tADJ\\tAAip2x\\tAnimacy=Inan|Case=Gen|Degree=Pos|Gender=Masc|Number=Plur\\t28\\tamod\\t_\\t_\\n28\\tprojektov\\tprojekt\\tNOUN\\tSSip2\\tAnimacy=Inan|Case=Gen|Gender=Masc|Number=Plur\\t26\\tnmod\\t_\\tSpaceAfter=No\\n29\\t.\\t.\\tPUNCT\\tZ\\t_\\t3\\tpunct\\t_\\tSpaceAfter=No\\n\\n'"
      ]
     },
     "execution_count": 281,
     "metadata": {},
     "output_type": "execute_result"
    }
   ],
   "source": [
    "vysledok = json.loads(response.text)\n",
    "\n",
    "vysledok[\"result\"]"
   ]
  },
  {
   "cell_type": "code",
   "execution_count": 282,
   "id": "1e449b4a",
   "metadata": {},
   "outputs": [
    {
     "data": {
      "text/plain": [
       "['# newdoc\\n# newpar\\n# sent_id = 1\\n# text = Jednou z hlavných činností univerzity je výskum.\\n1\\tJednou\\tjeden\\tNUM\\tNFfs7\\tCase=Ins|Gender=Fem|Number=Sing\\t0\\troot\\t_\\t_\\n2\\tz\\tz\\tADP\\tEu2\\tAdpType=Prep|Case=Gen\\t4\\tcase\\t_\\t_\\n3\\thlavných\\thlavný\\tADJ\\tAAfp2x\\tCase=Gen|Degree=Pos|Gender=Fem|Number=Plur\\t4\\tamod\\t_\\t_\\n4\\tčinností\\tčinnosť\\tNOUN\\tSSfp2\\tCase=Gen|Gender=Fem|Number=Plur\\t1\\tnmod\\t_\\t_\\n5\\tuniverzity\\tuniverzita\\tNOUN\\tSSfs2\\tCase=Gen|Gender=Fem|Number=Sing\\t4\\tnmod\\t_\\t_\\n6\\tje\\tbyť\\tAUX\\tVKesc+\\tAspect=Imp|Mood=Ind|Number=Sing|Person=3|Polarity=Pos|Tense=Pres|VerbForm=Fin\\t1\\tcop\\t_\\t_\\n7\\tvýskum\\tvýskum\\tNOUN\\tSSns1\\tCase=Nom|Gender=Neut|Number=Sing\\t1\\tnsubj\\t_\\tSpaceAfter=No\\n8\\t.\\t.\\tPUNCT\\tZ\\t_\\t1\\tpunct\\t_\\t_',\n",
       " '# sent_id = 2\\n# text = Je zameraný na získavanie pôvodných výsledkov smerujúcich k rozvoju poznania a zahŕňa aj aktivity zamerané na efektívne prepojenie vedeckého bádania so vzdelávacím procesom a na podporu odborného rastu zamestnancov.\\n1\\tJe\\tbyť\\tAUX\\tVKesc+\\tAspect=Imp|Mood=Ind|Number=Sing|Person=3|Polarity=Pos|Tense=Pres|VerbForm=Fin\\t2\\tcop\\t_\\t_\\n2\\tzameraný\\tzameraný\\tADJ\\tGtis1x\\tAnimacy=Inan|Case=Nom|Degree=Pos|Gender=Masc|Number=Sing|Polarity=Pos|VerbForm=Part|Voice=Pass\\t0\\troot\\t_\\t_\\n3\\tna\\tna\\tADP\\tEu4\\tAdpType=Prep|Case=Acc\\t4\\tcase\\t_\\t_\\n4\\tzískavanie\\tzískavať\\tNOUN\\tSSns4\\tCase=Acc|Gender=Neut|Number=Sing\\t2\\tobl\\t_\\t_\\n5\\tpôvodných\\tpôvodný\\tADJ\\tAAip2x\\tAnimacy=Inan|Case=Gen|Degree=Pos|Gender=Masc|Number=Plur\\t6\\tamod\\t_\\t_\\n6\\tvýsledkov\\tvýsledok\\tNOUN\\tSSip2\\tAnimacy=Inan|Case=Gen|Gender=Masc|Number=Plur\\t4\\tnmod\\t_\\t_\\n7\\tsmerujúcich\\tsmerujúci\\tADJ\\tGtmp2x\\tAnimacy=Anim|Case=Gen|Degree=Pos|Gender=Masc|Number=Plur|Polarity=Pos|VerbForm=Part|Voice=Pass\\t6\\tamod\\t_\\t_\\n8\\tk\\tk\\tADP\\tEu3\\tAdpType=Prep|Case=Dat\\t9\\tcase\\t_\\t_\\n9\\trozvoju\\trozvoj\\tNOUN\\tSSis3\\tAnimacy=Inan|Case=Dat|Gender=Masc|Number=Sing\\t7\\tobl\\t_\\t_\\n10\\tpoznania\\tpoznanie\\tNOUN\\tSSns2\\tCase=Gen|Gender=Neut|Number=Sing\\t9\\tnmod\\t_\\t_\\n11\\ta\\ta\\tCCONJ\\tO\\t_\\t12\\tcc\\t_\\t_\\n12\\tzahŕňa\\tzahŕňať\\tVERB\\tVKesc+\\tAspect=Imp|Mood=Ind|Number=Sing|Person=3|Polarity=Pos|Tense=Pres|VerbForm=Fin\\t2\\tconj\\t_\\t_\\n13\\taj\\taj\\tPART\\tT\\t_\\t14\\tadvmod:emph\\t_\\t_\\n14\\taktivity\\taktivita\\tNOUN\\tSSfp4\\tCase=Acc|Gender=Fem|Number=Plur\\t12\\tobj\\t_\\t_\\n15\\tzamerané\\tzameraný\\tADJ\\tGtnp4x\\tCase=Acc|Degree=Pos|Gender=Neut|Number=Plur|Polarity=Pos|VerbForm=Part|Voice=Pass\\t14\\tamod\\t_\\t_\\n16\\tna\\tna\\tADP\\tEu4\\tAdpType=Prep|Case=Acc\\t18\\tcase\\t_\\t_\\n17\\tefektívne\\tefektívny\\tADJ\\tAAns4x\\tCase=Acc|Degree=Pos|Gender=Neut|Number=Sing\\t18\\tamod\\t_\\t_\\n18\\tprepojenie\\tprepojenie\\tNOUN\\tSSns4\\tCase=Acc|Gender=Neut|Number=Sing\\t15\\tobl:arg\\t_\\t_\\n19\\tvedeckého\\tvedecký\\tADJ\\tAAns2x\\tCase=Gen|Degree=Pos|Gender=Neut|Number=Sing\\t20\\tamod\\t_\\t_\\n20\\tbádania\\tbádanie\\tNOUN\\tSSns2\\tCase=Gen|Gender=Neut|Number=Sing\\t18\\tnmod\\t_\\t_\\n21\\tso\\ts\\tADP\\tEv7\\tAdpType=Voc|Case=Ins\\t23\\tcase\\t_\\t_\\n22\\tvzdelávacím\\tvzdelávací\\tADJ\\tAAis7x\\tAnimacy=Inan|Case=Ins|Degree=Pos|Gender=Masc|Number=Sing\\t23\\tamod\\t_\\t_\\n23\\tprocesom\\tproces\\tNOUN\\tSSis7\\tAnimacy=Inan|Case=Ins|Gender=Masc|Number=Sing\\t18\\tnmod\\t_\\t_\\n24\\ta\\ta\\tCCONJ\\tO\\t_\\t26\\tcc\\t_\\t_\\n25\\tna\\tna\\tADP\\tEu4\\tAdpType=Prep|Case=Acc\\t26\\tcase\\t_\\t_\\n26\\tpodporu\\tpodpora\\tNOUN\\tSSfs4\\tCase=Acc|Gender=Fem|Number=Sing\\t18\\tconj\\t_\\t_\\n27\\todborného\\todborný\\tADJ\\tAAis2x\\tAnimacy=Inan|Case=Gen|Degree=Pos|Gender=Masc|Number=Sing\\t28\\tamod\\t_\\t_\\n28\\trastu\\trast\\tNOUN\\tSSis2\\tAnimacy=Inan|Case=Gen|Gender=Masc|Number=Sing\\t26\\tnmod\\t_\\t_\\n29\\tzamestnancov\\tzamestnanec\\tNOUN\\tSSmp2\\tAnimacy=Anim|Case=Gen|Gender=Masc|Number=Plur\\t28\\tnmod\\t_\\tSpaceAfter=No\\n30\\t.\\t.\\tPUNCT\\tZ\\t_\\t2\\tpunct\\t_\\t_',\n",
       " '# sent_id = 3\\n# text = Vedeckovýskumná činnosť sa uskutočňuje predovšetkým prostredníctvom riešenia výskumných, kultúrno-edukačných a ďalších projektov, pričom nosným výstupom sú vedecké a odborné publikácie.\\n1\\tVedeckovýskumná\\tVedeckovýskumný\\tADJ\\tAAfs1x\\tCase=Nom|Degree=Pos|Gender=Fem|Number=Sing\\t2\\tamod\\t_\\t_\\n2\\tčinnosť\\tčinnosť\\tNOUN\\tSSfs1\\tCase=Nom|Gender=Fem|Number=Sing\\t4\\tnsubj\\t_\\t_\\n3\\tsa\\tsa\\tPRON\\tR\\tPronType=Prs|Reflex=Yes\\t4\\texpl:pv\\t_\\t_\\n4\\tuskutočňuje\\tuskutočňovať\\tVERB\\tVKesc+\\tAspect=Imp|Mood=Ind|Number=Sing|Person=3|Polarity=Pos|Tense=Pres|VerbForm=Fin\\t0\\troot\\t_\\t_\\n5\\tpredovšetkým\\tpredovšetkým\\tPART\\tT\\t_\\t7\\tadvmod:emph\\t_\\t_\\n6\\tprostredníctvom\\tprostredníctvom\\tADP\\tEu2\\tAdpType=Prep|Case=Gen\\t7\\tcase\\t_\\t_\\n7\\triešenia\\triešenie\\tNOUN\\tSSns2\\tCase=Gen|Gender=Neut|Number=Sing\\t8\\tobl\\t_\\t_\\n8\\tvýskumných\\tvýskumný\\tADJ\\tAAip2x\\tAnimacy=Inan|Case=Gen|Degree=Pos|Gender=Masc|Number=Plur\\t13\\tamod\\t_\\tSpaceAfter=No\\n9\\t,\\t,\\tPUNCT\\tZ\\t_\\t10\\tpunct\\t_\\t_\\n10\\tkultúrno-edukačných\\tkultúrno-edukačný\\tADJ\\tAAip2x\\tAnimacy=Inan|Case=Gen|Degree=Pos|Gender=Masc|Number=Plur\\t8\\tconj\\t_\\t_\\n11\\ta\\ta\\tCCONJ\\tO\\t_\\t12\\tcc\\t_\\t_\\n12\\tďalších\\tďalší\\tADJ\\tAAmp4x\\tAnimacy=Anim|Case=Acc|Degree=Pos|Gender=Masc|Number=Plur\\t8\\tconj\\t_\\t_\\n13\\tprojektov\\tprojekt\\tNOUN\\tSSmp4\\tAnimacy=Anim|Case=Acc|Gender=Masc|Number=Plur\\t4\\tobj\\t_\\tSpaceAfter=No\\n14\\t,\\t,\\tPUNCT\\tZ\\t_\\t17\\tpunct\\t_\\t_\\n15\\tpričom\\tpričom\\tCCONJ\\tO\\t_\\t17\\tcc\\t_\\t_\\n16\\tnosným\\tnosný\\tADJ\\tAAis7x\\tAnimacy=Inan|Case=Ins|Degree=Pos|Gender=Masc|Number=Sing\\t17\\tamod\\t_\\t_\\n17\\tvýstupom\\tvýstup\\tNOUN\\tSSis7\\tAnimacy=Inan|Case=Ins|Gender=Masc|Number=Sing\\t4\\tconj\\t_\\t_\\n18\\tsú\\tbyť\\tAUX\\tVKepc+\\tAspect=Imp|Mood=Ind|Number=Plur|Person=3|Polarity=Pos|Tense=Pres|VerbForm=Fin\\t17\\tcop\\t_\\t_\\n19\\tvedecké\\tvedecký\\tADJ\\tAAfp1x\\tCase=Nom|Degree=Pos|Gender=Fem|Number=Plur\\t22\\tamod\\t_\\t_\\n20\\ta\\ta\\tCCONJ\\tO\\t_\\t21\\tcc\\t_\\t_\\n21\\todborné\\todborný\\tADJ\\tAAfp1x\\tCase=Nom|Degree=Pos|Gender=Fem|Number=Plur\\t19\\tconj\\t_\\t_\\n22\\tpublikácie\\tpublikácia\\tNOUN\\tSSfp1\\tCase=Nom|Gender=Fem|Number=Plur\\t17\\tnsubj\\t_\\tSpaceAfter=No\\n23\\t.\\t.\\tPUNCT\\tZ\\t_\\t4\\tpunct\\t_\\t_',\n",
       " '# sent_id = 4\\n# text = Univerzita každoročne organizuje významné vedecké, umelecké a odborné podujatia, prostredníctvom ktorých sa realizuje prezentácia, propagácia a prenos poznatkov a dosiahnutých výsledkov z riešenia vedeckovýskumných projektov.\\n1\\tUniverzita\\tUniverzita\\tNOUN\\tSSfs1\\tCase=Nom|Gender=Fem|Number=Sing\\t3\\tnsubj\\t_\\t_\\n2\\tkaždoročne\\tkaždoročne\\tADV\\tDx\\tDegree=Pos\\t3\\tadvmod\\t_\\t_\\n3\\torganizuje\\torganizovať\\tVERB\\tVKesc+\\tAspect=Imp|Mood=Ind|Number=Sing|Person=3|Polarity=Pos|Tense=Pres|VerbForm=Fin\\t0\\troot\\t_\\t_\\n4\\tvýznamné\\tvýznamný\\tADJ\\tAAfp4x\\tCase=Acc|Degree=Pos|Gender=Fem|Number=Plur\\t10\\tamod\\t_\\t_\\n5\\tvedecké\\tvedecký\\tADJ\\tAAfp4x\\tCase=Acc|Degree=Pos|Gender=Fem|Number=Plur\\t10\\tamod\\t_\\tSpaceAfter=No\\n6\\t,\\t,\\tPUNCT\\tZ\\t_\\t7\\tpunct\\t_\\t_\\n7\\tumelecké\\tumelecký\\tADJ\\tAAfp4x\\tCase=Acc|Degree=Pos|Gender=Fem|Number=Plur\\t5\\tconj\\t_\\t_\\n8\\ta\\ta\\tCCONJ\\tO\\t_\\t9\\tcc\\t_\\t_\\n9\\todborné\\todborný\\tADJ\\tGtfp1x\\tCase=Nom|Degree=Pos|Gender=Fem|Number=Plur|Polarity=Pos|VerbForm=Part|Voice=Pass\\t5\\tconj\\t_\\t_\\n10\\tpodujatia\\tpodujatie\\tNOUN\\tSSfs1\\tCase=Nom|Gender=Fem|Number=Sing\\t3\\tnsubj\\t_\\tSpaceAfter=No\\n11\\t,\\t,\\tPUNCT\\tZ\\t_\\t15\\tpunct\\t_\\t_\\n12\\tprostredníctvom\\tprostredníctvom\\tADP\\tEu2\\tAdpType=Prep|Case=Gen\\t13\\tcase\\t_\\t_\\n13\\tktorých\\tktorý\\tDET\\tPAmp2\\tAnimacy=Anim|Case=Gen|Gender=Masc|Number=Plur|PronType=Int,Rel\\t15\\tobl\\t_\\t_\\n14\\tsa\\tsa\\tPRON\\tR\\tPronType=Prs|Reflex=Yes\\t15\\texpl:pv\\t_\\t_\\n15\\trealizuje\\trealizovať\\tVERB\\tVKesc+\\tAspect=Imp|Mood=Ind|Number=Sing|Person=3|Polarity=Pos|Tense=Pres|VerbForm=Fin\\t10\\tacl\\t_\\t_\\n16\\tprezentácia\\tprezentácia\\tNOUN\\tSSfs1\\tCase=Nom|Gender=Fem|Number=Sing\\t15\\tnsubj\\t_\\tSpaceAfter=No\\n17\\t,\\t,\\tPUNCT\\tZ\\t_\\t18\\tpunct\\t_\\t_\\n18\\tpropagácia\\tpropagácia\\tNOUN\\tSSfs1\\tCase=Nom|Gender=Fem|Number=Sing\\t16\\tconj\\t_\\t_\\n19\\ta\\ta\\tCCONJ\\tO\\t_\\t21\\tcc\\t_\\t_\\n20\\tprenos\\tprenos\\tADP\\tEu2\\tAdpType=Prep|Case=Gen\\t21\\tcase\\t_\\t_\\n21\\tpoznatkov\\tpoznatok\\tNOUN\\tSSip2\\tAnimacy=Inan|Case=Gen|Gender=Masc|Number=Plur\\t16\\tconj\\t_\\t_\\n22\\ta\\ta\\tCCONJ\\tO\\t_\\t24\\tcc\\t_\\t_\\n23\\tdosiahnutých\\tdosiahnutý\\tDET\\tPFip2\\tAnimacy=Inan|Case=Gen|Gender=Masc|Number=Plur|PronType=Dem\\t24\\tdet\\t_\\t_\\n24\\tvýsledkov\\tvýsledok\\tNOUN\\tSSip2\\tAnimacy=Inan|Case=Gen|Gender=Masc|Number=Plur\\t16\\tconj\\t_\\t_\\n25\\tz\\tz\\tADP\\tEu2\\tAdpType=Prep|Case=Gen\\t26\\tcase\\t_\\t_\\n26\\triešenia\\triešenie\\tNOUN\\tSSns2\\tCase=Gen|Gender=Neut|Number=Sing\\t16\\tnmod\\t_\\t_\\n27\\tvedeckovýskumných\\tvedeckovýskumný\\tADJ\\tAAip2x\\tAnimacy=Inan|Case=Gen|Degree=Pos|Gender=Masc|Number=Plur\\t28\\tamod\\t_\\t_\\n28\\tprojektov\\tprojekt\\tNOUN\\tSSip2\\tAnimacy=Inan|Case=Gen|Gender=Masc|Number=Plur\\t26\\tnmod\\t_\\tSpaceAfter=No\\n29\\t.\\t.\\tPUNCT\\tZ\\t_\\t3\\tpunct\\t_\\tSpaceAfter=No',\n",
       " '']"
      ]
     },
     "execution_count": 282,
     "metadata": {},
     "output_type": "execute_result"
    }
   ],
   "source": [
    "vsetky_riadky_povodne = vysledok['result'].split('\\n\\n')\n",
    "vsetky_riadky_povodne_zoznam = []\n",
    "for riadok in vsetky_riadky_povodne:\n",
    "    vsetky_riadky_povodne_zoznam.append(riadok)\n",
    "    \n",
    "vsetky_riadky_povodne"
   ]
  },
  {
   "cell_type": "code",
   "execution_count": 283,
   "id": "1ecdc088",
   "metadata": {
    "scrolled": true
   },
   "outputs": [],
   "source": [
    "vsetky_riadky = vysledok['result'].split('\\n\\n')\n",
    "vsetky_riadky_zoznam = []\n",
    "for riadok in vsetky_riadky:\n",
    "    vsetky_riadky_zoznam.append(riadok)"
   ]
  },
  {
   "cell_type": "code",
   "execution_count": 284,
   "id": "4fee3f39",
   "metadata": {},
   "outputs": [],
   "source": [
    "vsetky_riadky[0] = vsetky_riadky[0].replace(\"# newdoc\\n# newpar\\n\", \"\")"
   ]
  },
  {
   "cell_type": "code",
   "execution_count": 285,
   "id": "9ee310f4",
   "metadata": {},
   "outputs": [
    {
     "data": {
      "text/plain": [
       "'# sent_id = 1\\n# text = Jednou z hlavných činností univerzity je výskum.\\n1\\tJednou\\tjeden\\tNUM\\tNFfs7\\tCase=Ins|Gender=Fem|Number=Sing\\t0\\troot\\t_\\t_\\n2\\tz\\tz\\tADP\\tEu2\\tAdpType=Prep|Case=Gen\\t4\\tcase\\t_\\t_\\n3\\thlavných\\thlavný\\tADJ\\tAAfp2x\\tCase=Gen|Degree=Pos|Gender=Fem|Number=Plur\\t4\\tamod\\t_\\t_\\n4\\tčinností\\tčinnosť\\tNOUN\\tSSfp2\\tCase=Gen|Gender=Fem|Number=Plur\\t1\\tnmod\\t_\\t_\\n5\\tuniverzity\\tuniverzita\\tNOUN\\tSSfs2\\tCase=Gen|Gender=Fem|Number=Sing\\t4\\tnmod\\t_\\t_\\n6\\tje\\tbyť\\tAUX\\tVKesc+\\tAspect=Imp|Mood=Ind|Number=Sing|Person=3|Polarity=Pos|Tense=Pres|VerbForm=Fin\\t1\\tcop\\t_\\t_\\n7\\tvýskum\\tvýskum\\tNOUN\\tSSns1\\tCase=Nom|Gender=Neut|Number=Sing\\t1\\tnsubj\\t_\\tSpaceAfter=No\\n8\\t.\\t.\\tPUNCT\\tZ\\t_\\t1\\tpunct\\t_\\t_'"
      ]
     },
     "execution_count": 285,
     "metadata": {},
     "output_type": "execute_result"
    }
   ],
   "source": [
    "vsetky_riadky[0]"
   ]
  },
  {
   "cell_type": "code",
   "execution_count": 286,
   "id": "63eddcde",
   "metadata": {},
   "outputs": [
    {
     "name": "stderr",
     "output_type": "stream",
     "text": [
      "C:\\Users\\42191\\AppData\\Local\\Temp\\ipykernel_10544\\3543097560.py:6: FutureWarning: The frame.append method is deprecated and will be removed from pandas in a future version. Use pandas.concat instead.\n",
      "  df = df.append({'riadok': i}, ignore_index=True)\n",
      "C:\\Users\\42191\\AppData\\Local\\Temp\\ipykernel_10544\\3543097560.py:6: FutureWarning: The frame.append method is deprecated and will be removed from pandas in a future version. Use pandas.concat instead.\n",
      "  df = df.append({'riadok': i}, ignore_index=True)\n",
      "C:\\Users\\42191\\AppData\\Local\\Temp\\ipykernel_10544\\3543097560.py:6: FutureWarning: The frame.append method is deprecated and will be removed from pandas in a future version. Use pandas.concat instead.\n",
      "  df = df.append({'riadok': i}, ignore_index=True)\n",
      "C:\\Users\\42191\\AppData\\Local\\Temp\\ipykernel_10544\\3543097560.py:6: FutureWarning: The frame.append method is deprecated and will be removed from pandas in a future version. Use pandas.concat instead.\n",
      "  df = df.append({'riadok': i}, ignore_index=True)\n",
      "C:\\Users\\42191\\AppData\\Local\\Temp\\ipykernel_10544\\3543097560.py:6: FutureWarning: The frame.append method is deprecated and will be removed from pandas in a future version. Use pandas.concat instead.\n",
      "  df = df.append({'riadok': i}, ignore_index=True)\n",
      "C:\\Users\\42191\\AppData\\Local\\Temp\\ipykernel_10544\\3543097560.py:6: FutureWarning: The frame.append method is deprecated and will be removed from pandas in a future version. Use pandas.concat instead.\n",
      "  df = df.append({'riadok': i}, ignore_index=True)\n",
      "C:\\Users\\42191\\AppData\\Local\\Temp\\ipykernel_10544\\3543097560.py:6: FutureWarning: The frame.append method is deprecated and will be removed from pandas in a future version. Use pandas.concat instead.\n",
      "  df = df.append({'riadok': i}, ignore_index=True)\n",
      "C:\\Users\\42191\\AppData\\Local\\Temp\\ipykernel_10544\\3543097560.py:6: FutureWarning: The frame.append method is deprecated and will be removed from pandas in a future version. Use pandas.concat instead.\n",
      "  df = df.append({'riadok': i}, ignore_index=True)\n",
      "C:\\Users\\42191\\AppData\\Local\\Temp\\ipykernel_10544\\3543097560.py:6: FutureWarning: The frame.append method is deprecated and will be removed from pandas in a future version. Use pandas.concat instead.\n",
      "  df = df.append({'riadok': i}, ignore_index=True)\n",
      "C:\\Users\\42191\\AppData\\Local\\Temp\\ipykernel_10544\\3543097560.py:6: FutureWarning: The frame.append method is deprecated and will be removed from pandas in a future version. Use pandas.concat instead.\n",
      "  df = df.append({'riadok': i}, ignore_index=True)\n",
      "C:\\Users\\42191\\AppData\\Local\\Temp\\ipykernel_10544\\3543097560.py:6: FutureWarning: The frame.append method is deprecated and will be removed from pandas in a future version. Use pandas.concat instead.\n",
      "  df = df.append({'riadok': i}, ignore_index=True)\n",
      "C:\\Users\\42191\\AppData\\Local\\Temp\\ipykernel_10544\\3543097560.py:6: FutureWarning: The frame.append method is deprecated and will be removed from pandas in a future version. Use pandas.concat instead.\n",
      "  df = df.append({'riadok': i}, ignore_index=True)\n",
      "C:\\Users\\42191\\AppData\\Local\\Temp\\ipykernel_10544\\3543097560.py:6: FutureWarning: The frame.append method is deprecated and will be removed from pandas in a future version. Use pandas.concat instead.\n",
      "  df = df.append({'riadok': i}, ignore_index=True)\n",
      "C:\\Users\\42191\\AppData\\Local\\Temp\\ipykernel_10544\\3543097560.py:6: FutureWarning: The frame.append method is deprecated and will be removed from pandas in a future version. Use pandas.concat instead.\n",
      "  df = df.append({'riadok': i}, ignore_index=True)\n",
      "C:\\Users\\42191\\AppData\\Local\\Temp\\ipykernel_10544\\3543097560.py:6: FutureWarning: The frame.append method is deprecated and will be removed from pandas in a future version. Use pandas.concat instead.\n",
      "  df = df.append({'riadok': i}, ignore_index=True)\n",
      "C:\\Users\\42191\\AppData\\Local\\Temp\\ipykernel_10544\\3543097560.py:6: FutureWarning: The frame.append method is deprecated and will be removed from pandas in a future version. Use pandas.concat instead.\n",
      "  df = df.append({'riadok': i}, ignore_index=True)\n",
      "C:\\Users\\42191\\AppData\\Local\\Temp\\ipykernel_10544\\3543097560.py:6: FutureWarning: The frame.append method is deprecated and will be removed from pandas in a future version. Use pandas.concat instead.\n",
      "  df = df.append({'riadok': i}, ignore_index=True)\n",
      "C:\\Users\\42191\\AppData\\Local\\Temp\\ipykernel_10544\\3543097560.py:6: FutureWarning: The frame.append method is deprecated and will be removed from pandas in a future version. Use pandas.concat instead.\n",
      "  df = df.append({'riadok': i}, ignore_index=True)\n",
      "C:\\Users\\42191\\AppData\\Local\\Temp\\ipykernel_10544\\3543097560.py:6: FutureWarning: The frame.append method is deprecated and will be removed from pandas in a future version. Use pandas.concat instead.\n",
      "  df = df.append({'riadok': i}, ignore_index=True)\n",
      "C:\\Users\\42191\\AppData\\Local\\Temp\\ipykernel_10544\\3543097560.py:6: FutureWarning: The frame.append method is deprecated and will be removed from pandas in a future version. Use pandas.concat instead.\n",
      "  df = df.append({'riadok': i}, ignore_index=True)\n",
      "C:\\Users\\42191\\AppData\\Local\\Temp\\ipykernel_10544\\3543097560.py:6: FutureWarning: The frame.append method is deprecated and will be removed from pandas in a future version. Use pandas.concat instead.\n",
      "  df = df.append({'riadok': i}, ignore_index=True)\n",
      "C:\\Users\\42191\\AppData\\Local\\Temp\\ipykernel_10544\\3543097560.py:6: FutureWarning: The frame.append method is deprecated and will be removed from pandas in a future version. Use pandas.concat instead.\n",
      "  df = df.append({'riadok': i}, ignore_index=True)\n",
      "C:\\Users\\42191\\AppData\\Local\\Temp\\ipykernel_10544\\3543097560.py:6: FutureWarning: The frame.append method is deprecated and will be removed from pandas in a future version. Use pandas.concat instead.\n",
      "  df = df.append({'riadok': i}, ignore_index=True)\n",
      "C:\\Users\\42191\\AppData\\Local\\Temp\\ipykernel_10544\\3543097560.py:6: FutureWarning: The frame.append method is deprecated and will be removed from pandas in a future version. Use pandas.concat instead.\n",
      "  df = df.append({'riadok': i}, ignore_index=True)\n",
      "C:\\Users\\42191\\AppData\\Local\\Temp\\ipykernel_10544\\3543097560.py:6: FutureWarning: The frame.append method is deprecated and will be removed from pandas in a future version. Use pandas.concat instead.\n",
      "  df = df.append({'riadok': i}, ignore_index=True)\n",
      "C:\\Users\\42191\\AppData\\Local\\Temp\\ipykernel_10544\\3543097560.py:6: FutureWarning: The frame.append method is deprecated and will be removed from pandas in a future version. Use pandas.concat instead.\n",
      "  df = df.append({'riadok': i}, ignore_index=True)\n",
      "C:\\Users\\42191\\AppData\\Local\\Temp\\ipykernel_10544\\3543097560.py:6: FutureWarning: The frame.append method is deprecated and will be removed from pandas in a future version. Use pandas.concat instead.\n",
      "  df = df.append({'riadok': i}, ignore_index=True)\n",
      "C:\\Users\\42191\\AppData\\Local\\Temp\\ipykernel_10544\\3543097560.py:6: FutureWarning: The frame.append method is deprecated and will be removed from pandas in a future version. Use pandas.concat instead.\n",
      "  df = df.append({'riadok': i}, ignore_index=True)\n",
      "C:\\Users\\42191\\AppData\\Local\\Temp\\ipykernel_10544\\3543097560.py:6: FutureWarning: The frame.append method is deprecated and will be removed from pandas in a future version. Use pandas.concat instead.\n",
      "  df = df.append({'riadok': i}, ignore_index=True)\n",
      "C:\\Users\\42191\\AppData\\Local\\Temp\\ipykernel_10544\\3543097560.py:6: FutureWarning: The frame.append method is deprecated and will be removed from pandas in a future version. Use pandas.concat instead.\n",
      "  df = df.append({'riadok': i}, ignore_index=True)\n",
      "C:\\Users\\42191\\AppData\\Local\\Temp\\ipykernel_10544\\3543097560.py:6: FutureWarning: The frame.append method is deprecated and will be removed from pandas in a future version. Use pandas.concat instead.\n",
      "  df = df.append({'riadok': i}, ignore_index=True)\n",
      "C:\\Users\\42191\\AppData\\Local\\Temp\\ipykernel_10544\\3543097560.py:6: FutureWarning: The frame.append method is deprecated and will be removed from pandas in a future version. Use pandas.concat instead.\n",
      "  df = df.append({'riadok': i}, ignore_index=True)\n",
      "C:\\Users\\42191\\AppData\\Local\\Temp\\ipykernel_10544\\3543097560.py:6: FutureWarning: The frame.append method is deprecated and will be removed from pandas in a future version. Use pandas.concat instead.\n",
      "  df = df.append({'riadok': i}, ignore_index=True)\n",
      "C:\\Users\\42191\\AppData\\Local\\Temp\\ipykernel_10544\\3543097560.py:6: FutureWarning: The frame.append method is deprecated and will be removed from pandas in a future version. Use pandas.concat instead.\n",
      "  df = df.append({'riadok': i}, ignore_index=True)\n",
      "C:\\Users\\42191\\AppData\\Local\\Temp\\ipykernel_10544\\3543097560.py:6: FutureWarning: The frame.append method is deprecated and will be removed from pandas in a future version. Use pandas.concat instead.\n",
      "  df = df.append({'riadok': i}, ignore_index=True)\n",
      "C:\\Users\\42191\\AppData\\Local\\Temp\\ipykernel_10544\\3543097560.py:6: FutureWarning: The frame.append method is deprecated and will be removed from pandas in a future version. Use pandas.concat instead.\n",
      "  df = df.append({'riadok': i}, ignore_index=True)\n",
      "C:\\Users\\42191\\AppData\\Local\\Temp\\ipykernel_10544\\3543097560.py:6: FutureWarning: The frame.append method is deprecated and will be removed from pandas in a future version. Use pandas.concat instead.\n",
      "  df = df.append({'riadok': i}, ignore_index=True)\n",
      "C:\\Users\\42191\\AppData\\Local\\Temp\\ipykernel_10544\\3543097560.py:6: FutureWarning: The frame.append method is deprecated and will be removed from pandas in a future version. Use pandas.concat instead.\n",
      "  df = df.append({'riadok': i}, ignore_index=True)\n",
      "C:\\Users\\42191\\AppData\\Local\\Temp\\ipykernel_10544\\3543097560.py:6: FutureWarning: The frame.append method is deprecated and will be removed from pandas in a future version. Use pandas.concat instead.\n",
      "  df = df.append({'riadok': i}, ignore_index=True)\n",
      "C:\\Users\\42191\\AppData\\Local\\Temp\\ipykernel_10544\\3543097560.py:6: FutureWarning: The frame.append method is deprecated and will be removed from pandas in a future version. Use pandas.concat instead.\n",
      "  df = df.append({'riadok': i}, ignore_index=True)\n",
      "C:\\Users\\42191\\AppData\\Local\\Temp\\ipykernel_10544\\3543097560.py:6: FutureWarning: The frame.append method is deprecated and will be removed from pandas in a future version. Use pandas.concat instead.\n",
      "  df = df.append({'riadok': i}, ignore_index=True)\n",
      "C:\\Users\\42191\\AppData\\Local\\Temp\\ipykernel_10544\\3543097560.py:6: FutureWarning: The frame.append method is deprecated and will be removed from pandas in a future version. Use pandas.concat instead.\n",
      "  df = df.append({'riadok': i}, ignore_index=True)\n",
      "C:\\Users\\42191\\AppData\\Local\\Temp\\ipykernel_10544\\3543097560.py:6: FutureWarning: The frame.append method is deprecated and will be removed from pandas in a future version. Use pandas.concat instead.\n",
      "  df = df.append({'riadok': i}, ignore_index=True)\n",
      "C:\\Users\\42191\\AppData\\Local\\Temp\\ipykernel_10544\\3543097560.py:6: FutureWarning: The frame.append method is deprecated and will be removed from pandas in a future version. Use pandas.concat instead.\n",
      "  df = df.append({'riadok': i}, ignore_index=True)\n",
      "C:\\Users\\42191\\AppData\\Local\\Temp\\ipykernel_10544\\3543097560.py:6: FutureWarning: The frame.append method is deprecated and will be removed from pandas in a future version. Use pandas.concat instead.\n",
      "  df = df.append({'riadok': i}, ignore_index=True)\n",
      "C:\\Users\\42191\\AppData\\Local\\Temp\\ipykernel_10544\\3543097560.py:6: FutureWarning: The frame.append method is deprecated and will be removed from pandas in a future version. Use pandas.concat instead.\n",
      "  df = df.append({'riadok': i}, ignore_index=True)\n",
      "C:\\Users\\42191\\AppData\\Local\\Temp\\ipykernel_10544\\3543097560.py:6: FutureWarning: The frame.append method is deprecated and will be removed from pandas in a future version. Use pandas.concat instead.\n",
      "  df = df.append({'riadok': i}, ignore_index=True)\n",
      "C:\\Users\\42191\\AppData\\Local\\Temp\\ipykernel_10544\\3543097560.py:6: FutureWarning: The frame.append method is deprecated and will be removed from pandas in a future version. Use pandas.concat instead.\n",
      "  df = df.append({'riadok': i}, ignore_index=True)\n",
      "C:\\Users\\42191\\AppData\\Local\\Temp\\ipykernel_10544\\3543097560.py:6: FutureWarning: The frame.append method is deprecated and will be removed from pandas in a future version. Use pandas.concat instead.\n",
      "  df = df.append({'riadok': i}, ignore_index=True)\n",
      "C:\\Users\\42191\\AppData\\Local\\Temp\\ipykernel_10544\\3543097560.py:6: FutureWarning: The frame.append method is deprecated and will be removed from pandas in a future version. Use pandas.concat instead.\n",
      "  df = df.append({'riadok': i}, ignore_index=True)\n",
      "C:\\Users\\42191\\AppData\\Local\\Temp\\ipykernel_10544\\3543097560.py:6: FutureWarning: The frame.append method is deprecated and will be removed from pandas in a future version. Use pandas.concat instead.\n",
      "  df = df.append({'riadok': i}, ignore_index=True)\n",
      "C:\\Users\\42191\\AppData\\Local\\Temp\\ipykernel_10544\\3543097560.py:6: FutureWarning: The frame.append method is deprecated and will be removed from pandas in a future version. Use pandas.concat instead.\n",
      "  df = df.append({'riadok': i}, ignore_index=True)\n",
      "C:\\Users\\42191\\AppData\\Local\\Temp\\ipykernel_10544\\3543097560.py:6: FutureWarning: The frame.append method is deprecated and will be removed from pandas in a future version. Use pandas.concat instead.\n",
      "  df = df.append({'riadok': i}, ignore_index=True)\n",
      "C:\\Users\\42191\\AppData\\Local\\Temp\\ipykernel_10544\\3543097560.py:6: FutureWarning: The frame.append method is deprecated and will be removed from pandas in a future version. Use pandas.concat instead.\n",
      "  df = df.append({'riadok': i}, ignore_index=True)\n",
      "C:\\Users\\42191\\AppData\\Local\\Temp\\ipykernel_10544\\3543097560.py:6: FutureWarning: The frame.append method is deprecated and will be removed from pandas in a future version. Use pandas.concat instead.\n",
      "  df = df.append({'riadok': i}, ignore_index=True)\n",
      "C:\\Users\\42191\\AppData\\Local\\Temp\\ipykernel_10544\\3543097560.py:6: FutureWarning: The frame.append method is deprecated and will be removed from pandas in a future version. Use pandas.concat instead.\n",
      "  df = df.append({'riadok': i}, ignore_index=True)\n",
      "C:\\Users\\42191\\AppData\\Local\\Temp\\ipykernel_10544\\3543097560.py:6: FutureWarning: The frame.append method is deprecated and will be removed from pandas in a future version. Use pandas.concat instead.\n",
      "  df = df.append({'riadok': i}, ignore_index=True)\n",
      "C:\\Users\\42191\\AppData\\Local\\Temp\\ipykernel_10544\\3543097560.py:6: FutureWarning: The frame.append method is deprecated and will be removed from pandas in a future version. Use pandas.concat instead.\n",
      "  df = df.append({'riadok': i}, ignore_index=True)\n",
      "C:\\Users\\42191\\AppData\\Local\\Temp\\ipykernel_10544\\3543097560.py:6: FutureWarning: The frame.append method is deprecated and will be removed from pandas in a future version. Use pandas.concat instead.\n",
      "  df = df.append({'riadok': i}, ignore_index=True)\n",
      "C:\\Users\\42191\\AppData\\Local\\Temp\\ipykernel_10544\\3543097560.py:6: FutureWarning: The frame.append method is deprecated and will be removed from pandas in a future version. Use pandas.concat instead.\n",
      "  df = df.append({'riadok': i}, ignore_index=True)\n",
      "C:\\Users\\42191\\AppData\\Local\\Temp\\ipykernel_10544\\3543097560.py:6: FutureWarning: The frame.append method is deprecated and will be removed from pandas in a future version. Use pandas.concat instead.\n",
      "  df = df.append({'riadok': i}, ignore_index=True)\n",
      "C:\\Users\\42191\\AppData\\Local\\Temp\\ipykernel_10544\\3543097560.py:6: FutureWarning: The frame.append method is deprecated and will be removed from pandas in a future version. Use pandas.concat instead.\n",
      "  df = df.append({'riadok': i}, ignore_index=True)\n",
      "C:\\Users\\42191\\AppData\\Local\\Temp\\ipykernel_10544\\3543097560.py:6: FutureWarning: The frame.append method is deprecated and will be removed from pandas in a future version. Use pandas.concat instead.\n",
      "  df = df.append({'riadok': i}, ignore_index=True)\n",
      "C:\\Users\\42191\\AppData\\Local\\Temp\\ipykernel_10544\\3543097560.py:6: FutureWarning: The frame.append method is deprecated and will be removed from pandas in a future version. Use pandas.concat instead.\n",
      "  df = df.append({'riadok': i}, ignore_index=True)\n",
      "C:\\Users\\42191\\AppData\\Local\\Temp\\ipykernel_10544\\3543097560.py:6: FutureWarning: The frame.append method is deprecated and will be removed from pandas in a future version. Use pandas.concat instead.\n",
      "  df = df.append({'riadok': i}, ignore_index=True)\n",
      "C:\\Users\\42191\\AppData\\Local\\Temp\\ipykernel_10544\\3543097560.py:6: FutureWarning: The frame.append method is deprecated and will be removed from pandas in a future version. Use pandas.concat instead.\n",
      "  df = df.append({'riadok': i}, ignore_index=True)\n",
      "C:\\Users\\42191\\AppData\\Local\\Temp\\ipykernel_10544\\3543097560.py:6: FutureWarning: The frame.append method is deprecated and will be removed from pandas in a future version. Use pandas.concat instead.\n",
      "  df = df.append({'riadok': i}, ignore_index=True)\n",
      "C:\\Users\\42191\\AppData\\Local\\Temp\\ipykernel_10544\\3543097560.py:6: FutureWarning: The frame.append method is deprecated and will be removed from pandas in a future version. Use pandas.concat instead.\n",
      "  df = df.append({'riadok': i}, ignore_index=True)\n",
      "C:\\Users\\42191\\AppData\\Local\\Temp\\ipykernel_10544\\3543097560.py:6: FutureWarning: The frame.append method is deprecated and will be removed from pandas in a future version. Use pandas.concat instead.\n",
      "  df = df.append({'riadok': i}, ignore_index=True)\n",
      "C:\\Users\\42191\\AppData\\Local\\Temp\\ipykernel_10544\\3543097560.py:6: FutureWarning: The frame.append method is deprecated and will be removed from pandas in a future version. Use pandas.concat instead.\n",
      "  df = df.append({'riadok': i}, ignore_index=True)\n",
      "C:\\Users\\42191\\AppData\\Local\\Temp\\ipykernel_10544\\3543097560.py:6: FutureWarning: The frame.append method is deprecated and will be removed from pandas in a future version. Use pandas.concat instead.\n",
      "  df = df.append({'riadok': i}, ignore_index=True)\n",
      "C:\\Users\\42191\\AppData\\Local\\Temp\\ipykernel_10544\\3543097560.py:6: FutureWarning: The frame.append method is deprecated and will be removed from pandas in a future version. Use pandas.concat instead.\n",
      "  df = df.append({'riadok': i}, ignore_index=True)\n",
      "C:\\Users\\42191\\AppData\\Local\\Temp\\ipykernel_10544\\3543097560.py:6: FutureWarning: The frame.append method is deprecated and will be removed from pandas in a future version. Use pandas.concat instead.\n",
      "  df = df.append({'riadok': i}, ignore_index=True)\n",
      "C:\\Users\\42191\\AppData\\Local\\Temp\\ipykernel_10544\\3543097560.py:6: FutureWarning: The frame.append method is deprecated and will be removed from pandas in a future version. Use pandas.concat instead.\n",
      "  df = df.append({'riadok': i}, ignore_index=True)\n",
      "C:\\Users\\42191\\AppData\\Local\\Temp\\ipykernel_10544\\3543097560.py:6: FutureWarning: The frame.append method is deprecated and will be removed from pandas in a future version. Use pandas.concat instead.\n",
      "  df = df.append({'riadok': i}, ignore_index=True)\n",
      "C:\\Users\\42191\\AppData\\Local\\Temp\\ipykernel_10544\\3543097560.py:6: FutureWarning: The frame.append method is deprecated and will be removed from pandas in a future version. Use pandas.concat instead.\n",
      "  df = df.append({'riadok': i}, ignore_index=True)\n",
      "C:\\Users\\42191\\AppData\\Local\\Temp\\ipykernel_10544\\3543097560.py:6: FutureWarning: The frame.append method is deprecated and will be removed from pandas in a future version. Use pandas.concat instead.\n",
      "  df = df.append({'riadok': i}, ignore_index=True)\n",
      "C:\\Users\\42191\\AppData\\Local\\Temp\\ipykernel_10544\\3543097560.py:6: FutureWarning: The frame.append method is deprecated and will be removed from pandas in a future version. Use pandas.concat instead.\n",
      "  df = df.append({'riadok': i}, ignore_index=True)\n",
      "C:\\Users\\42191\\AppData\\Local\\Temp\\ipykernel_10544\\3543097560.py:6: FutureWarning: The frame.append method is deprecated and will be removed from pandas in a future version. Use pandas.concat instead.\n",
      "  df = df.append({'riadok': i}, ignore_index=True)\n",
      "C:\\Users\\42191\\AppData\\Local\\Temp\\ipykernel_10544\\3543097560.py:6: FutureWarning: The frame.append method is deprecated and will be removed from pandas in a future version. Use pandas.concat instead.\n",
      "  df = df.append({'riadok': i}, ignore_index=True)\n",
      "C:\\Users\\42191\\AppData\\Local\\Temp\\ipykernel_10544\\3543097560.py:6: FutureWarning: The frame.append method is deprecated and will be removed from pandas in a future version. Use pandas.concat instead.\n",
      "  df = df.append({'riadok': i}, ignore_index=True)\n",
      "C:\\Users\\42191\\AppData\\Local\\Temp\\ipykernel_10544\\3543097560.py:6: FutureWarning: The frame.append method is deprecated and will be removed from pandas in a future version. Use pandas.concat instead.\n",
      "  df = df.append({'riadok': i}, ignore_index=True)\n",
      "C:\\Users\\42191\\AppData\\Local\\Temp\\ipykernel_10544\\3543097560.py:6: FutureWarning: The frame.append method is deprecated and will be removed from pandas in a future version. Use pandas.concat instead.\n",
      "  df = df.append({'riadok': i}, ignore_index=True)\n",
      "C:\\Users\\42191\\AppData\\Local\\Temp\\ipykernel_10544\\3543097560.py:6: FutureWarning: The frame.append method is deprecated and will be removed from pandas in a future version. Use pandas.concat instead.\n",
      "  df = df.append({'riadok': i}, ignore_index=True)\n",
      "C:\\Users\\42191\\AppData\\Local\\Temp\\ipykernel_10544\\3543097560.py:6: FutureWarning: The frame.append method is deprecated and will be removed from pandas in a future version. Use pandas.concat instead.\n",
      "  df = df.append({'riadok': i}, ignore_index=True)\n",
      "C:\\Users\\42191\\AppData\\Local\\Temp\\ipykernel_10544\\3543097560.py:6: FutureWarning: The frame.append method is deprecated and will be removed from pandas in a future version. Use pandas.concat instead.\n",
      "  df = df.append({'riadok': i}, ignore_index=True)\n",
      "C:\\Users\\42191\\AppData\\Local\\Temp\\ipykernel_10544\\3543097560.py:6: FutureWarning: The frame.append method is deprecated and will be removed from pandas in a future version. Use pandas.concat instead.\n",
      "  df = df.append({'riadok': i}, ignore_index=True)\n",
      "C:\\Users\\42191\\AppData\\Local\\Temp\\ipykernel_10544\\3543097560.py:6: FutureWarning: The frame.append method is deprecated and will be removed from pandas in a future version. Use pandas.concat instead.\n",
      "  df = df.append({'riadok': i}, ignore_index=True)\n",
      "C:\\Users\\42191\\AppData\\Local\\Temp\\ipykernel_10544\\3543097560.py:6: FutureWarning: The frame.append method is deprecated and will be removed from pandas in a future version. Use pandas.concat instead.\n",
      "  df = df.append({'riadok': i}, ignore_index=True)\n",
      "C:\\Users\\42191\\AppData\\Local\\Temp\\ipykernel_10544\\3543097560.py:6: FutureWarning: The frame.append method is deprecated and will be removed from pandas in a future version. Use pandas.concat instead.\n",
      "  df = df.append({'riadok': i}, ignore_index=True)\n",
      "C:\\Users\\42191\\AppData\\Local\\Temp\\ipykernel_10544\\3543097560.py:6: FutureWarning: The frame.append method is deprecated and will be removed from pandas in a future version. Use pandas.concat instead.\n",
      "  df = df.append({'riadok': i}, ignore_index=True)\n",
      "C:\\Users\\42191\\AppData\\Local\\Temp\\ipykernel_10544\\3543097560.py:6: FutureWarning: The frame.append method is deprecated and will be removed from pandas in a future version. Use pandas.concat instead.\n",
      "  df = df.append({'riadok': i}, ignore_index=True)\n",
      "C:\\Users\\42191\\AppData\\Local\\Temp\\ipykernel_10544\\3543097560.py:6: FutureWarning: The frame.append method is deprecated and will be removed from pandas in a future version. Use pandas.concat instead.\n",
      "  df = df.append({'riadok': i}, ignore_index=True)\n",
      "C:\\Users\\42191\\AppData\\Local\\Temp\\ipykernel_10544\\3543097560.py:6: FutureWarning: The frame.append method is deprecated and will be removed from pandas in a future version. Use pandas.concat instead.\n",
      "  df = df.append({'riadok': i}, ignore_index=True)\n",
      "C:\\Users\\42191\\AppData\\Local\\Temp\\ipykernel_10544\\3543097560.py:6: FutureWarning: The frame.append method is deprecated and will be removed from pandas in a future version. Use pandas.concat instead.\n",
      "  df = df.append({'riadok': i}, ignore_index=True)\n",
      "C:\\Users\\42191\\AppData\\Local\\Temp\\ipykernel_10544\\3543097560.py:6: FutureWarning: The frame.append method is deprecated and will be removed from pandas in a future version. Use pandas.concat instead.\n",
      "  df = df.append({'riadok': i}, ignore_index=True)\n",
      "C:\\Users\\42191\\AppData\\Local\\Temp\\ipykernel_10544\\3543097560.py:6: FutureWarning: The frame.append method is deprecated and will be removed from pandas in a future version. Use pandas.concat instead.\n",
      "  df = df.append({'riadok': i}, ignore_index=True)\n",
      "C:\\Users\\42191\\AppData\\Local\\Temp\\ipykernel_10544\\3543097560.py:6: FutureWarning: The frame.append method is deprecated and will be removed from pandas in a future version. Use pandas.concat instead.\n",
      "  df = df.append({'riadok': i}, ignore_index=True)\n",
      "C:\\Users\\42191\\AppData\\Local\\Temp\\ipykernel_10544\\3543097560.py:6: FutureWarning: The frame.append method is deprecated and will be removed from pandas in a future version. Use pandas.concat instead.\n",
      "  df = df.append({'riadok': i}, ignore_index=True)\n"
     ]
    }
   ],
   "source": [
    "zoznam_zoznamov_dvojic = []\n",
    "for riadok in vsetky_riadky:\n",
    "    riadokk = riadok.split('\\n')\n",
    "    df = pd.DataFrame(columns=['riadok'])\n",
    "    for i in riadokk:\n",
    "        df = df.append({'riadok': i}, ignore_index=True)\n",
    "    zoznam_zoznamov_dvojic.append(df)"
   ]
  },
  {
   "cell_type": "code",
   "execution_count": 287,
   "id": "5cc5ebc8",
   "metadata": {},
   "outputs": [],
   "source": [
    "zoznam_zoznamov_dvojic[0]['riadok'] = zoznam_zoznamov_dvojic[0]['riadok'].str.replace('\\t', ' ', regex=True)\n",
    "\n",
    "zoznam_zoznamov_dvojic[0] = pd.concat([zoznam_zoznamov_dvojic[0]['riadok'].str.split(' ', expand=True)], axis=1)\n",
    "\n",
    "zoznam_zoznamov_dvojic[0] = zoznam_zoznamov_dvojic[0].drop(zoznam_zoznamov_dvojic[0][zoznam_zoznamov_dvojic[0][0]== '#'].index)\n",
    "\n",
    "zoznam_zoznamov_dvojic[0] = zoznam_zoznamov_dvojic[0].dropna(axis=1, how='all')\n",
    "\n",
    "zoznam_zoznamov_dvojic[0].columns = ['poradove_cislo', 'slovo', 'lema_slova', 'univerzalna_znacka', 'specificka_znacka', 'feats', 'head', 'deprel','-','-']\n",
    "\n",
    "zoznam_zoznamov_dvojic[0] = zoznam_zoznamov_dvojic[0].reset_index(drop=True)\n",
    "\n",
    "zoznam_zoznamov_dvojic[0][\"dvojica\"] = \"\"\n",
    "\n",
    "for i in range(0, len(zoznam_zoznamov_dvojic[0])):\n",
    "    poradove_cislo_index = int(zoznam_zoznamov_dvojic[0][\"poradove_cislo\"].iloc[i]) - 1\n",
    "    head_index = int(zoznam_zoznamov_dvojic[0][\"head\"].iloc[i]) - 1\n",
    "    dvojica = zoznam_zoznamov_dvojic[0][\"slovo\"].iloc[poradove_cislo_index] + \" \" + zoznam_zoznamov_dvojic[0][\"slovo\"].iloc[head_index]\n",
    "    zoznam_zoznamov_dvojic[0].at[i,'dvojica'] = dvojica \n",
    "    \n",
    "zoznam_dvojic_prva_veta = zoznam_zoznamov_dvojic[0]['dvojica'].to_list()\n",
    "# zoznam_dvojic_prva_veta"
   ]
  },
  {
   "cell_type": "code",
   "execution_count": 288,
   "id": "efd4bbb9",
   "metadata": {
    "scrolled": true
   },
   "outputs": [],
   "source": [
    "zoznam_zoznamov_dvojic[1]['riadok'] = zoznam_zoznamov_dvojic[1]['riadok'].str.replace('\\t', ' ', regex=True)\n",
    "\n",
    "zoznam_zoznamov_dvojic[1] = pd.concat([zoznam_zoznamov_dvojic[1]['riadok'].str.split(' ', expand=True)], axis=1)\n",
    "\n",
    "zoznam_zoznamov_dvojic[1] = zoznam_zoznamov_dvojic[1].drop(zoznam_zoznamov_dvojic[1][zoznam_zoznamov_dvojic[1][0]== '#'].index)\n",
    "\n",
    "zoznam_zoznamov_dvojic[1] = zoznam_zoznamov_dvojic[1].dropna(axis=1, how='all')\n",
    "\n",
    "zoznam_zoznamov_dvojic[1].columns = ['poradove_cislo', 'slovo', 'lema_slova', 'univerzalna_znacka', 'specificka_znacka', 'feats', 'head', 'deprel','-','-']\n",
    "\n",
    "zoznam_zoznamov_dvojic[1] = zoznam_zoznamov_dvojic[1].reset_index(drop=True)\n",
    "\n",
    "zoznam_zoznamov_dvojic[1][\"dvojica\"] = \"\"\n",
    "\n",
    "for i in range(0, len(zoznam_zoznamov_dvojic[1])):\n",
    "    poradove_cislo_index = int(zoznam_zoznamov_dvojic[1][\"poradove_cislo\"].iloc[i]) - 1\n",
    "    head_index = int(zoznam_zoznamov_dvojic[1][\"head\"].iloc[i]) - 1\n",
    "    dvojica = zoznam_zoznamov_dvojic[1][\"slovo\"].iloc[poradove_cislo_index] + \" \" + zoznam_zoznamov_dvojic[1][\"slovo\"].iloc[head_index]\n",
    "    zoznam_zoznamov_dvojic[1].at[i,'dvojica'] = dvojica \n",
    "    \n",
    "zoznam_dvojic_druha_veta = zoznam_zoznamov_dvojic[1]['dvojica'].to_list()\n",
    "# zoznam_dvojic_druha_veta"
   ]
  },
  {
   "cell_type": "code",
   "execution_count": 289,
   "id": "b341fce7",
   "metadata": {
    "scrolled": false
   },
   "outputs": [],
   "source": [
    "zoznam_zoznamov_dvojic[2]['riadok'] = zoznam_zoznamov_dvojic[2]['riadok'].str.replace('\\t', ' ', regex=True)\n",
    "\n",
    "zoznam_zoznamov_dvojic[2] = pd.concat([zoznam_zoznamov_dvojic[2]['riadok'].str.split(' ', expand=True)], axis=1)\n",
    "\n",
    "zoznam_zoznamov_dvojic[2] = zoznam_zoznamov_dvojic[2].drop(zoznam_zoznamov_dvojic[2][zoznam_zoznamov_dvojic[2][0]== '#'].index)\n",
    "\n",
    "zoznam_zoznamov_dvojic[2] = zoznam_zoznamov_dvojic[2].dropna(axis=1, how='all')\n",
    "\n",
    "zoznam_zoznamov_dvojic[2].columns = ['poradove_cislo', 'slovo', 'lema_slova', 'univerzalna_znacka', 'specificka_znacka', 'feats', 'head', 'deprel','-','-']\n",
    "\n",
    "zoznam_zoznamov_dvojic[2] = zoznam_zoznamov_dvojic[2].reset_index(drop=True)\n",
    "\n",
    "zoznam_zoznamov_dvojic[2][\"dvojica\"] = \"\"\n",
    "\n",
    "for i in range(0, len(zoznam_zoznamov_dvojic[2])):\n",
    "    poradove_cislo_index = int(zoznam_zoznamov_dvojic[2][\"poradove_cislo\"].iloc[i]) - 1\n",
    "    head_index = int(zoznam_zoznamov_dvojic[2][\"head\"].iloc[i]) - 1\n",
    "    dvojica = zoznam_zoznamov_dvojic[2][\"slovo\"].iloc[poradove_cislo_index] + \" \" + zoznam_zoznamov_dvojic[2][\"slovo\"].iloc[head_index]\n",
    "    zoznam_zoznamov_dvojic[2].at[i,'dvojica'] = dvojica \n",
    "        \n",
    "zoznam_dvojic_tretia_veta = zoznam_zoznamov_dvojic[2]['dvojica'].to_list()\n",
    "# zoznam_dvojic_tretia_veta"
   ]
  },
  {
   "cell_type": "code",
   "execution_count": 290,
   "id": "f74b4256",
   "metadata": {
    "scrolled": false
   },
   "outputs": [],
   "source": [
    "zoznam_zoznamov_dvojic[3]['riadok'] = zoznam_zoznamov_dvojic[3]['riadok'].str.replace('\\t', ' ', regex=True)\n",
    "\n",
    "zoznam_zoznamov_dvojic[3] = pd.concat([zoznam_zoznamov_dvojic[3]['riadok'].str.split(' ', expand=True)], axis=1)\n",
    "\n",
    "zoznam_zoznamov_dvojic[3] = zoznam_zoznamov_dvojic[3].drop(zoznam_zoznamov_dvojic[3][zoznam_zoznamov_dvojic[3][0]== '#'].index)\n",
    "\n",
    "zoznam_zoznamov_dvojic[3] = zoznam_zoznamov_dvojic[3].dropna(axis=1, how='all')\n",
    "\n",
    "zoznam_zoznamov_dvojic[3].columns = ['poradove_cislo', 'slovo', 'lema_slova', 'univerzalna_znacka', 'specificka_znacka', 'feats', 'head', 'deprel','-','-']\n",
    "\n",
    "zoznam_zoznamov_dvojic[3] = zoznam_zoznamov_dvojic[3].reset_index(drop=True)\n",
    "\n",
    "zoznam_zoznamov_dvojic[3][\"dvojica\"] = \"\"\n",
    "\n",
    "for i in range(0, len(zoznam_zoznamov_dvojic[3])):\n",
    "    poradove_cislo_index = int(zoznam_zoznamov_dvojic[3][\"poradove_cislo\"].iloc[i]) - 1\n",
    "    head_index = int(zoznam_zoznamov_dvojic[3][\"head\"].iloc[i]) - 1\n",
    "    dvojica = zoznam_zoznamov_dvojic[3][\"slovo\"].iloc[poradove_cislo_index] + \" \" + zoznam_zoznamov_dvojic[3][\"slovo\"].iloc[head_index]\n",
    "    zoznam_zoznamov_dvojic[3].at[i,'dvojica'] = dvojica \n",
    "    \n",
    "zoznam_zoznamov_dvojic[3] = zoznam_zoznamov_dvojic[3].drop(zoznam_zoznamov_dvojic[3][zoznam_zoznamov_dvojic[3]['specificka_znacka'] == 'Z'].index)\n",
    "      \n",
    "zoznam_dvojic_stvrta_veta = zoznam_zoznamov_dvojic[3]['dvojica'].to_list()\n",
    "# zoznam_dvojic_stvrta_veta"
   ]
  },
  {
   "cell_type": "code",
   "execution_count": 291,
   "id": "bfdfc028",
   "metadata": {},
   "outputs": [
    {
     "data": {
      "text/plain": [
       "['z činností',\n",
       " 'hlavných činností',\n",
       " 'činností Jednou',\n",
       " 'univerzity činností',\n",
       " 'je Jednou',\n",
       " 'výskum Jednou',\n",
       " 'Je zameraný',\n",
       " 'na získavanie',\n",
       " 'získavanie zameraný',\n",
       " 'pôvodných výsledkov',\n",
       " 'výsledkov získavanie',\n",
       " 'smerujúcich výsledkov',\n",
       " 'k rozvoju',\n",
       " 'rozvoju smerujúcich',\n",
       " 'poznania rozvoju',\n",
       " 'a zahŕňa',\n",
       " 'zahŕňa zameraný',\n",
       " 'aj aktivity',\n",
       " 'aktivity zahŕňa',\n",
       " 'zamerané aktivity',\n",
       " 'na prepojenie',\n",
       " 'efektívne prepojenie',\n",
       " 'prepojenie zamerané',\n",
       " 'vedeckého bádania',\n",
       " 'bádania prepojenie',\n",
       " 'so procesom',\n",
       " 'vzdelávacím procesom',\n",
       " 'procesom prepojenie',\n",
       " 'a podporu',\n",
       " 'na podporu',\n",
       " 'podporu prepojenie',\n",
       " 'odborného rastu',\n",
       " 'rastu podporu',\n",
       " 'zamestnancov rastu',\n",
       " 'Vedeckovýskumná činnosť',\n",
       " 'činnosť uskutočňuje',\n",
       " 'sa uskutočňuje',\n",
       " 'predovšetkým riešenia',\n",
       " 'prostredníctvom riešenia',\n",
       " 'riešenia výskumných',\n",
       " 'výskumných projektov',\n",
       " 'kultúrno-edukačných výskumných',\n",
       " 'a ďalších',\n",
       " 'ďalších výskumných',\n",
       " 'projektov uskutočňuje',\n",
       " 'pričom výstupom',\n",
       " 'nosným výstupom',\n",
       " 'výstupom uskutočňuje',\n",
       " 'sú výstupom',\n",
       " 'vedecké publikácie',\n",
       " 'a odborné',\n",
       " 'odborné vedecké',\n",
       " 'publikácie výstupom',\n",
       " 'Univerzita organizuje',\n",
       " 'každoročne organizuje',\n",
       " 'významné podujatia',\n",
       " 'vedecké podujatia',\n",
       " 'umelecké vedecké',\n",
       " 'a odborné',\n",
       " 'odborné vedecké',\n",
       " 'podujatia organizuje',\n",
       " 'prostredníctvom ktorých',\n",
       " 'ktorých realizuje',\n",
       " 'sa realizuje',\n",
       " 'realizuje podujatia',\n",
       " 'prezentácia realizuje',\n",
       " 'propagácia prezentácia',\n",
       " 'a poznatkov',\n",
       " 'prenos poznatkov',\n",
       " 'poznatkov prezentácia',\n",
       " 'a výsledkov',\n",
       " 'dosiahnutých výsledkov',\n",
       " 'výsledkov prezentácia',\n",
       " 'z riešenia',\n",
       " 'riešenia prezentácia',\n",
       " 'vedeckovýskumných projektov',\n",
       " 'projektov riešenia']"
      ]
     },
     "execution_count": 291,
     "metadata": {},
     "output_type": "execute_result"
    }
   ],
   "source": [
    "celkovy_zoznam_dvojic = zoznam_dvojic_prva_veta + zoznam_dvojic_druha_veta + zoznam_dvojic_tretia_veta + zoznam_dvojic_stvrta_veta\n",
    "\n",
    "celkovy_zoznam_dvojic_bez_interpunkcie = [riadok for riadok in celkovy_zoznam_dvojic if \".\" not in riadok and \",\" not in riadok and \"!\" not in riadok and \"?\" not in riadok]\n",
    "\n",
    "celkovy_zoznam_dvojic_bez_interpunkcie"
   ]
  }
 ],
 "metadata": {
  "kernelspec": {
   "display_name": "Python 3 (ipykernel)",
   "language": "python",
   "name": "python3"
  },
  "language_info": {
   "codemirror_mode": {
    "name": "ipython",
    "version": 3
   },
   "file_extension": ".py",
   "mimetype": "text/x-python",
   "name": "python",
   "nbconvert_exporter": "python",
   "pygments_lexer": "ipython3",
   "version": "3.9.13"
  }
 },
 "nbformat": 4,
 "nbformat_minor": 5
}
