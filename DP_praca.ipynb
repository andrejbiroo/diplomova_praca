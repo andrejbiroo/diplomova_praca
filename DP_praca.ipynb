{
 "cells": [
  {
   "cell_type": "code",
   "execution_count": 211,
   "id": "fda5c944",
   "metadata": {},
   "outputs": [],
   "source": [
    "import requests\n",
    "import json\n",
    "import pandas as pd"
   ]
  },
  {
   "cell_type": "code",
   "execution_count": 212,
   "id": "2eaa5e26",
   "metadata": {},
   "outputs": [],
   "source": [
    "veta = 'Spadnutú hrušku zelenú predali do obchodu.'"
   ]
  },
  {
   "cell_type": "code",
   "execution_count": 213,
   "id": "e2b3f779",
   "metadata": {},
   "outputs": [],
   "source": [
    "response = requests.get(\"http://lindat.mff.cuni.cz/services/udpipe/api/process?tokenizer&tagger&parser&data=\"+veta+\"&model=slovak-snk-ud-2.5-191206\")"
   ]
  },
  {
   "cell_type": "code",
   "execution_count": 214,
   "id": "2fba07f7",
   "metadata": {},
   "outputs": [
    {
     "data": {
      "text/plain": [
       "'{\\n \"model\": \"slovak-snk-ud-2.5-191206\",\\n \"acknowledgements\": [\\n  \"http://ufal.mff.cuni.cz/udpipe/1#udpipe_acknowledgements\",\\n  \"http://ufal.mff.cuni.cz/udpipe/1/models#universal_dependencies_25_models_acknowledgements\"\\n ],\\n \"result\": \"# newdoc\\\\n# newpar\\\\n# sent_id = 1\\\\n# text = Spadnutú hrušku zelenú predali do obchodu.\\\\n1\\\\tSpadnutú\\\\tSpadnutý\\\\tADJ\\\\tAAfs4x\\\\tCase=Acc|Degree=Pos|Gender=Fem|Number=Sing\\\\t2\\\\tamod\\\\t_\\\\t_\\\\n2\\\\thrušku\\\\thruška\\\\tNOUN\\\\tSSfs4\\\\tCase=Acc|Gender=Fem|Number=Sing\\\\t4\\\\tobj\\\\t_\\\\t_\\\\n3\\\\tzelenú\\\\tzelený\\\\tNOUN\\\\tSFfs4\\\\tCase=Acc|Gender=Fem|Number=Sing\\\\t2\\\\tnmod\\\\t_\\\\t_\\\\n4\\\\tpredali\\\\tpredať\\\\tVERB\\\\tVLdpcf+\\\\tAspect=Perf|Gender=Fem|Number=Plur|Polarity=Pos|Tense=Past|VerbForm=Part\\\\t0\\\\troot\\\\t_\\\\t_\\\\n5\\\\tdo\\\\tdo\\\\tADP\\\\tEu2\\\\tAdpType=Prep|Case=Gen\\\\t6\\\\tcase\\\\t_\\\\t_\\\\n6\\\\tobchodu\\\\tobchod\\\\tNOUN\\\\tSSis2\\\\tAnimacy=Inan|Case=Gen|Gender=Masc|Number=Sing\\\\t4\\\\tobl\\\\t_\\\\tSpaceAfter=No\\\\n7\\\\t.\\\\t.\\\\tPUNCT\\\\tZ\\\\t_\\\\t4\\\\tpunct\\\\t_\\\\tSpaceAfter=No\\\\n\\\\n\"\\n}\\n'"
      ]
     },
     "execution_count": 214,
     "metadata": {},
     "output_type": "execute_result"
    }
   ],
   "source": [
    "response.text"
   ]
  },
  {
   "cell_type": "code",
   "execution_count": 215,
   "id": "9598af8e",
   "metadata": {},
   "outputs": [],
   "source": [
    "vysledok = json.loads(response.text)"
   ]
  },
  {
   "cell_type": "code",
   "execution_count": 216,
   "id": "1901b002",
   "metadata": {},
   "outputs": [
    {
     "data": {
      "text/plain": [
       "{'model': 'slovak-snk-ud-2.5-191206',\n",
       " 'acknowledgements': ['http://ufal.mff.cuni.cz/udpipe/1#udpipe_acknowledgements',\n",
       "  'http://ufal.mff.cuni.cz/udpipe/1/models#universal_dependencies_25_models_acknowledgements'],\n",
       " 'result': '# newdoc\\n# newpar\\n# sent_id = 1\\n# text = Spadnutú hrušku zelenú predali do obchodu.\\n1\\tSpadnutú\\tSpadnutý\\tADJ\\tAAfs4x\\tCase=Acc|Degree=Pos|Gender=Fem|Number=Sing\\t2\\tamod\\t_\\t_\\n2\\thrušku\\thruška\\tNOUN\\tSSfs4\\tCase=Acc|Gender=Fem|Number=Sing\\t4\\tobj\\t_\\t_\\n3\\tzelenú\\tzelený\\tNOUN\\tSFfs4\\tCase=Acc|Gender=Fem|Number=Sing\\t2\\tnmod\\t_\\t_\\n4\\tpredali\\tpredať\\tVERB\\tVLdpcf+\\tAspect=Perf|Gender=Fem|Number=Plur|Polarity=Pos|Tense=Past|VerbForm=Part\\t0\\troot\\t_\\t_\\n5\\tdo\\tdo\\tADP\\tEu2\\tAdpType=Prep|Case=Gen\\t6\\tcase\\t_\\t_\\n6\\tobchodu\\tobchod\\tNOUN\\tSSis2\\tAnimacy=Inan|Case=Gen|Gender=Masc|Number=Sing\\t4\\tobl\\t_\\tSpaceAfter=No\\n7\\t.\\t.\\tPUNCT\\tZ\\t_\\t4\\tpunct\\t_\\tSpaceAfter=No\\n\\n'}"
      ]
     },
     "execution_count": 216,
     "metadata": {},
     "output_type": "execute_result"
    }
   ],
   "source": [
    "vysledok"
   ]
  },
  {
   "cell_type": "code",
   "execution_count": 217,
   "id": "92bc57ef",
   "metadata": {},
   "outputs": [],
   "source": [
    "vsetky_riadky = vysledok['result'].split('\\n')"
   ]
  },
  {
   "cell_type": "code",
   "execution_count": 218,
   "id": "d020d225",
   "metadata": {},
   "outputs": [
    {
     "data": {
      "text/plain": [
       "['# newdoc',\n",
       " '# newpar',\n",
       " '# sent_id = 1',\n",
       " '# text = Spadnutú hrušku zelenú predali do obchodu.',\n",
       " '1\\tSpadnutú\\tSpadnutý\\tADJ\\tAAfs4x\\tCase=Acc|Degree=Pos|Gender=Fem|Number=Sing\\t2\\tamod\\t_\\t_',\n",
       " '2\\thrušku\\thruška\\tNOUN\\tSSfs4\\tCase=Acc|Gender=Fem|Number=Sing\\t4\\tobj\\t_\\t_',\n",
       " '3\\tzelenú\\tzelený\\tNOUN\\tSFfs4\\tCase=Acc|Gender=Fem|Number=Sing\\t2\\tnmod\\t_\\t_',\n",
       " '4\\tpredali\\tpredať\\tVERB\\tVLdpcf+\\tAspect=Perf|Gender=Fem|Number=Plur|Polarity=Pos|Tense=Past|VerbForm=Part\\t0\\troot\\t_\\t_',\n",
       " '5\\tdo\\tdo\\tADP\\tEu2\\tAdpType=Prep|Case=Gen\\t6\\tcase\\t_\\t_',\n",
       " '6\\tobchodu\\tobchod\\tNOUN\\tSSis2\\tAnimacy=Inan|Case=Gen|Gender=Masc|Number=Sing\\t4\\tobl\\t_\\tSpaceAfter=No',\n",
       " '7\\t.\\t.\\tPUNCT\\tZ\\t_\\t4\\tpunct\\t_\\tSpaceAfter=No',\n",
       " '',\n",
       " '']"
      ]
     },
     "execution_count": 218,
     "metadata": {},
     "output_type": "execute_result"
    }
   ],
   "source": [
    "vsetky_riadky"
   ]
  },
  {
   "cell_type": "code",
   "execution_count": 219,
   "id": "6ee1375b",
   "metadata": {},
   "outputs": [
    {
     "data": {
      "text/plain": [
       "'[\"# newdoc\", \"# newpar\", \"# sent_id = 1\", \"# text = Spadnut\\\\u00fa hru\\\\u0161ku zelen\\\\u00fa predali do obchodu.\", \"1\\\\tSpadnut\\\\u00fa\\\\tSpadnut\\\\u00fd\\\\tADJ\\\\tAAfs4x\\\\tCase=Acc|Degree=Pos|Gender=Fem|Number=Sing\\\\t2\\\\tamod\\\\t_\\\\t_\", \"2\\\\thru\\\\u0161ku\\\\thru\\\\u0161ka\\\\tNOUN\\\\tSSfs4\\\\tCase=Acc|Gender=Fem|Number=Sing\\\\t4\\\\tobj\\\\t_\\\\t_\", \"3\\\\tzelen\\\\u00fa\\\\tzelen\\\\u00fd\\\\tNOUN\\\\tSFfs4\\\\tCase=Acc|Gender=Fem|Number=Sing\\\\t2\\\\tnmod\\\\t_\\\\t_\", \"4\\\\tpredali\\\\tpreda\\\\u0165\\\\tVERB\\\\tVLdpcf+\\\\tAspect=Perf|Gender=Fem|Number=Plur|Polarity=Pos|Tense=Past|VerbForm=Part\\\\t0\\\\troot\\\\t_\\\\t_\", \"5\\\\tdo\\\\tdo\\\\tADP\\\\tEu2\\\\tAdpType=Prep|Case=Gen\\\\t6\\\\tcase\\\\t_\\\\t_\", \"6\\\\tobchodu\\\\tobchod\\\\tNOUN\\\\tSSis2\\\\tAnimacy=Inan|Case=Gen|Gender=Masc|Number=Sing\\\\t4\\\\tobl\\\\t_\\\\tSpaceAfter=No\", \"7\\\\t.\\\\t.\\\\tPUNCT\\\\tZ\\\\t_\\\\t4\\\\tpunct\\\\t_\\\\tSpaceAfter=No\", \"\", \"\"]'"
      ]
     },
     "execution_count": 219,
     "metadata": {},
     "output_type": "execute_result"
    }
   ],
   "source": [
    "json.dumps(vsetky_riadky)"
   ]
  },
  {
   "cell_type": "code",
   "execution_count": 220,
   "id": "3b84a5e7",
   "metadata": {},
   "outputs": [],
   "source": [
    "df = pd.DataFrame(columns=['riadok'])"
   ]
  },
  {
   "cell_type": "code",
   "execution_count": 221,
   "id": "4eeaf687",
   "metadata": {},
   "outputs": [
    {
     "name": "stderr",
     "output_type": "stream",
     "text": [
      "C:\\Users\\42191\\AppData\\Local\\Temp\\ipykernel_8676\\1303387428.py:2: FutureWarning: The frame.append method is deprecated and will be removed from pandas in a future version. Use pandas.concat instead.\n",
      "  df = df.append({'riadok': riadok}, ignore_index=True)\n",
      "C:\\Users\\42191\\AppData\\Local\\Temp\\ipykernel_8676\\1303387428.py:2: FutureWarning: The frame.append method is deprecated and will be removed from pandas in a future version. Use pandas.concat instead.\n",
      "  df = df.append({'riadok': riadok}, ignore_index=True)\n",
      "C:\\Users\\42191\\AppData\\Local\\Temp\\ipykernel_8676\\1303387428.py:2: FutureWarning: The frame.append method is deprecated and will be removed from pandas in a future version. Use pandas.concat instead.\n",
      "  df = df.append({'riadok': riadok}, ignore_index=True)\n",
      "C:\\Users\\42191\\AppData\\Local\\Temp\\ipykernel_8676\\1303387428.py:2: FutureWarning: The frame.append method is deprecated and will be removed from pandas in a future version. Use pandas.concat instead.\n",
      "  df = df.append({'riadok': riadok}, ignore_index=True)\n",
      "C:\\Users\\42191\\AppData\\Local\\Temp\\ipykernel_8676\\1303387428.py:2: FutureWarning: The frame.append method is deprecated and will be removed from pandas in a future version. Use pandas.concat instead.\n",
      "  df = df.append({'riadok': riadok}, ignore_index=True)\n",
      "C:\\Users\\42191\\AppData\\Local\\Temp\\ipykernel_8676\\1303387428.py:2: FutureWarning: The frame.append method is deprecated and will be removed from pandas in a future version. Use pandas.concat instead.\n",
      "  df = df.append({'riadok': riadok}, ignore_index=True)\n",
      "C:\\Users\\42191\\AppData\\Local\\Temp\\ipykernel_8676\\1303387428.py:2: FutureWarning: The frame.append method is deprecated and will be removed from pandas in a future version. Use pandas.concat instead.\n",
      "  df = df.append({'riadok': riadok}, ignore_index=True)\n",
      "C:\\Users\\42191\\AppData\\Local\\Temp\\ipykernel_8676\\1303387428.py:2: FutureWarning: The frame.append method is deprecated and will be removed from pandas in a future version. Use pandas.concat instead.\n",
      "  df = df.append({'riadok': riadok}, ignore_index=True)\n",
      "C:\\Users\\42191\\AppData\\Local\\Temp\\ipykernel_8676\\1303387428.py:2: FutureWarning: The frame.append method is deprecated and will be removed from pandas in a future version. Use pandas.concat instead.\n",
      "  df = df.append({'riadok': riadok}, ignore_index=True)\n",
      "C:\\Users\\42191\\AppData\\Local\\Temp\\ipykernel_8676\\1303387428.py:2: FutureWarning: The frame.append method is deprecated and will be removed from pandas in a future version. Use pandas.concat instead.\n",
      "  df = df.append({'riadok': riadok}, ignore_index=True)\n",
      "C:\\Users\\42191\\AppData\\Local\\Temp\\ipykernel_8676\\1303387428.py:2: FutureWarning: The frame.append method is deprecated and will be removed from pandas in a future version. Use pandas.concat instead.\n",
      "  df = df.append({'riadok': riadok}, ignore_index=True)\n",
      "C:\\Users\\42191\\AppData\\Local\\Temp\\ipykernel_8676\\1303387428.py:2: FutureWarning: The frame.append method is deprecated and will be removed from pandas in a future version. Use pandas.concat instead.\n",
      "  df = df.append({'riadok': riadok}, ignore_index=True)\n",
      "C:\\Users\\42191\\AppData\\Local\\Temp\\ipykernel_8676\\1303387428.py:2: FutureWarning: The frame.append method is deprecated and will be removed from pandas in a future version. Use pandas.concat instead.\n",
      "  df = df.append({'riadok': riadok}, ignore_index=True)\n"
     ]
    }
   ],
   "source": [
    "for riadok in vsetky_riadky:\n",
    "    df = df.append({'riadok': riadok}, ignore_index=True)"
   ]
  },
  {
   "cell_type": "code",
   "execution_count": 222,
   "id": "809e64cd",
   "metadata": {},
   "outputs": [],
   "source": [
    "df['riadok'] = df['riadok'].str.replace('\\t', ' ', regex=True)"
   ]
  },
  {
   "cell_type": "code",
   "execution_count": 223,
   "id": "837987e8",
   "metadata": {},
   "outputs": [],
   "source": [
    "df = df.drop(df.index [ [ 0,1,2,3,11,12 ] ])"
   ]
  },
  {
   "cell_type": "code",
   "execution_count": 224,
   "id": "8e6889c7",
   "metadata": {},
   "outputs": [],
   "source": [
    "df = df.reset_index(drop=True)"
   ]
  },
  {
   "cell_type": "code",
   "execution_count": 225,
   "id": "f3072c4b",
   "metadata": {
    "scrolled": true
   },
   "outputs": [],
   "source": [
    "df = pd.concat([df['riadok'].str.split(' ', expand=True)], axis=1)"
   ]
  },
  {
   "cell_type": "code",
   "execution_count": 226,
   "id": "48c2afb7",
   "metadata": {},
   "outputs": [],
   "source": [
    "df.columns = ['poradove_cislo', 'slovo', 'lema_slova', 'univerzalna_znacka', 'specificka_znacka', 'feats', 'head', 'deprel','-','-']"
   ]
  },
  {
   "cell_type": "code",
   "execution_count": 227,
   "id": "cb03047e",
   "metadata": {},
   "outputs": [
    {
     "data": {
      "text/html": [
       "<div>\n",
       "<style scoped>\n",
       "    .dataframe tbody tr th:only-of-type {\n",
       "        vertical-align: middle;\n",
       "    }\n",
       "\n",
       "    .dataframe tbody tr th {\n",
       "        vertical-align: top;\n",
       "    }\n",
       "\n",
       "    .dataframe thead th {\n",
       "        text-align: right;\n",
       "    }\n",
       "</style>\n",
       "<table border=\"1\" class=\"dataframe\">\n",
       "  <thead>\n",
       "    <tr style=\"text-align: right;\">\n",
       "      <th></th>\n",
       "      <th>poradove_cislo</th>\n",
       "      <th>slovo</th>\n",
       "      <th>lema_slova</th>\n",
       "      <th>univerzalna_znacka</th>\n",
       "      <th>specificka_znacka</th>\n",
       "      <th>feats</th>\n",
       "      <th>head</th>\n",
       "      <th>deprel</th>\n",
       "      <th>-</th>\n",
       "      <th>-</th>\n",
       "    </tr>\n",
       "  </thead>\n",
       "  <tbody>\n",
       "    <tr>\n",
       "      <th>0</th>\n",
       "      <td>1</td>\n",
       "      <td>Spadnutú</td>\n",
       "      <td>Spadnutý</td>\n",
       "      <td>ADJ</td>\n",
       "      <td>AAfs4x</td>\n",
       "      <td>Case=Acc|Degree=Pos|Gender=Fem|Number=Sing</td>\n",
       "      <td>2</td>\n",
       "      <td>amod</td>\n",
       "      <td>_</td>\n",
       "      <td>_</td>\n",
       "    </tr>\n",
       "    <tr>\n",
       "      <th>1</th>\n",
       "      <td>2</td>\n",
       "      <td>hrušku</td>\n",
       "      <td>hruška</td>\n",
       "      <td>NOUN</td>\n",
       "      <td>SSfs4</td>\n",
       "      <td>Case=Acc|Gender=Fem|Number=Sing</td>\n",
       "      <td>4</td>\n",
       "      <td>obj</td>\n",
       "      <td>_</td>\n",
       "      <td>_</td>\n",
       "    </tr>\n",
       "    <tr>\n",
       "      <th>2</th>\n",
       "      <td>3</td>\n",
       "      <td>zelenú</td>\n",
       "      <td>zelený</td>\n",
       "      <td>NOUN</td>\n",
       "      <td>SFfs4</td>\n",
       "      <td>Case=Acc|Gender=Fem|Number=Sing</td>\n",
       "      <td>2</td>\n",
       "      <td>nmod</td>\n",
       "      <td>_</td>\n",
       "      <td>_</td>\n",
       "    </tr>\n",
       "    <tr>\n",
       "      <th>3</th>\n",
       "      <td>4</td>\n",
       "      <td>predali</td>\n",
       "      <td>predať</td>\n",
       "      <td>VERB</td>\n",
       "      <td>VLdpcf+</td>\n",
       "      <td>Aspect=Perf|Gender=Fem|Number=Plur|Polarity=Po...</td>\n",
       "      <td>0</td>\n",
       "      <td>root</td>\n",
       "      <td>_</td>\n",
       "      <td>_</td>\n",
       "    </tr>\n",
       "    <tr>\n",
       "      <th>4</th>\n",
       "      <td>5</td>\n",
       "      <td>do</td>\n",
       "      <td>do</td>\n",
       "      <td>ADP</td>\n",
       "      <td>Eu2</td>\n",
       "      <td>AdpType=Prep|Case=Gen</td>\n",
       "      <td>6</td>\n",
       "      <td>case</td>\n",
       "      <td>_</td>\n",
       "      <td>_</td>\n",
       "    </tr>\n",
       "    <tr>\n",
       "      <th>5</th>\n",
       "      <td>6</td>\n",
       "      <td>obchodu</td>\n",
       "      <td>obchod</td>\n",
       "      <td>NOUN</td>\n",
       "      <td>SSis2</td>\n",
       "      <td>Animacy=Inan|Case=Gen|Gender=Masc|Number=Sing</td>\n",
       "      <td>4</td>\n",
       "      <td>obl</td>\n",
       "      <td>_</td>\n",
       "      <td>SpaceAfter=No</td>\n",
       "    </tr>\n",
       "    <tr>\n",
       "      <th>6</th>\n",
       "      <td>7</td>\n",
       "      <td>.</td>\n",
       "      <td>.</td>\n",
       "      <td>PUNCT</td>\n",
       "      <td>Z</td>\n",
       "      <td>_</td>\n",
       "      <td>4</td>\n",
       "      <td>punct</td>\n",
       "      <td>_</td>\n",
       "      <td>SpaceAfter=No</td>\n",
       "    </tr>\n",
       "  </tbody>\n",
       "</table>\n",
       "</div>"
      ],
      "text/plain": [
       "  poradove_cislo     slovo lema_slova univerzalna_znacka specificka_znacka  \\\n",
       "0              1  Spadnutú   Spadnutý                ADJ            AAfs4x   \n",
       "1              2    hrušku     hruška               NOUN             SSfs4   \n",
       "2              3    zelenú     zelený               NOUN             SFfs4   \n",
       "3              4   predali     predať               VERB           VLdpcf+   \n",
       "4              5        do         do                ADP               Eu2   \n",
       "5              6   obchodu     obchod               NOUN             SSis2   \n",
       "6              7         .          .              PUNCT                 Z   \n",
       "\n",
       "                                               feats head deprel  -  \\\n",
       "0         Case=Acc|Degree=Pos|Gender=Fem|Number=Sing    2   amod  _   \n",
       "1                    Case=Acc|Gender=Fem|Number=Sing    4    obj  _   \n",
       "2                    Case=Acc|Gender=Fem|Number=Sing    2   nmod  _   \n",
       "3  Aspect=Perf|Gender=Fem|Number=Plur|Polarity=Po...    0   root  _   \n",
       "4                              AdpType=Prep|Case=Gen    6   case  _   \n",
       "5      Animacy=Inan|Case=Gen|Gender=Masc|Number=Sing    4    obl  _   \n",
       "6                                                  _    4  punct  _   \n",
       "\n",
       "               -  \n",
       "0              _  \n",
       "1              _  \n",
       "2              _  \n",
       "3              _  \n",
       "4              _  \n",
       "5  SpaceAfter=No  \n",
       "6  SpaceAfter=No  "
      ]
     },
     "execution_count": 227,
     "metadata": {},
     "output_type": "execute_result"
    }
   ],
   "source": [
    "df"
   ]
  },
  {
   "cell_type": "code",
   "execution_count": 228,
   "id": "16bdf473",
   "metadata": {
    "scrolled": true
   },
   "outputs": [],
   "source": [
    "df[\"dvojica\"] = \"\"\n",
    "for i in range(0, len(df)):\n",
    "    poradove_cislo_index = int(df[\"poradove_cislo\"].iloc[i]) - 1\n",
    "    head_index = int(df[\"head\"].iloc[i]) - 1\n",
    "    dvojica = df[\"slovo\"].iloc[poradove_cislo_index] + \" \" + df[\"slovo\"].iloc[head_index]\n",
    "    df.at[i,'dvojica'] = dvojica"
   ]
  },
  {
   "cell_type": "code",
   "execution_count": 233,
   "id": "948f6db4",
   "metadata": {},
   "outputs": [
    {
     "data": {
      "text/html": [
       "<div>\n",
       "<style scoped>\n",
       "    .dataframe tbody tr th:only-of-type {\n",
       "        vertical-align: middle;\n",
       "    }\n",
       "\n",
       "    .dataframe tbody tr th {\n",
       "        vertical-align: top;\n",
       "    }\n",
       "\n",
       "    .dataframe thead th {\n",
       "        text-align: right;\n",
       "    }\n",
       "</style>\n",
       "<table border=\"1\" class=\"dataframe\">\n",
       "  <thead>\n",
       "    <tr style=\"text-align: right;\">\n",
       "      <th></th>\n",
       "      <th>poradove_cislo</th>\n",
       "      <th>slovo</th>\n",
       "      <th>lema_slova</th>\n",
       "      <th>univerzalna_znacka</th>\n",
       "      <th>specificka_znacka</th>\n",
       "      <th>feats</th>\n",
       "      <th>head</th>\n",
       "      <th>deprel</th>\n",
       "      <th>dvojica</th>\n",
       "    </tr>\n",
       "  </thead>\n",
       "  <tbody>\n",
       "    <tr>\n",
       "      <th>0</th>\n",
       "      <td>1</td>\n",
       "      <td>Spadnutú</td>\n",
       "      <td>Spadnutý</td>\n",
       "      <td>ADJ</td>\n",
       "      <td>AAfs4x</td>\n",
       "      <td>Case=Acc|Degree=Pos|Gender=Fem|Number=Sing</td>\n",
       "      <td>2</td>\n",
       "      <td>amod</td>\n",
       "      <td>Spadnutú hrušku</td>\n",
       "    </tr>\n",
       "    <tr>\n",
       "      <th>1</th>\n",
       "      <td>2</td>\n",
       "      <td>hrušku</td>\n",
       "      <td>hruška</td>\n",
       "      <td>NOUN</td>\n",
       "      <td>SSfs4</td>\n",
       "      <td>Case=Acc|Gender=Fem|Number=Sing</td>\n",
       "      <td>4</td>\n",
       "      <td>obj</td>\n",
       "      <td>hrušku predali</td>\n",
       "    </tr>\n",
       "    <tr>\n",
       "      <th>2</th>\n",
       "      <td>3</td>\n",
       "      <td>zelenú</td>\n",
       "      <td>zelený</td>\n",
       "      <td>NOUN</td>\n",
       "      <td>SFfs4</td>\n",
       "      <td>Case=Acc|Gender=Fem|Number=Sing</td>\n",
       "      <td>2</td>\n",
       "      <td>nmod</td>\n",
       "      <td>zelenú hrušku</td>\n",
       "    </tr>\n",
       "    <tr>\n",
       "      <th>3</th>\n",
       "      <td>4</td>\n",
       "      <td>predali</td>\n",
       "      <td>predať</td>\n",
       "      <td>VERB</td>\n",
       "      <td>VLdpcf+</td>\n",
       "      <td>Aspect=Perf|Gender=Fem|Number=Plur|Polarity=Po...</td>\n",
       "      <td>0</td>\n",
       "      <td>root</td>\n",
       "      <td>predali .</td>\n",
       "    </tr>\n",
       "    <tr>\n",
       "      <th>4</th>\n",
       "      <td>5</td>\n",
       "      <td>do</td>\n",
       "      <td>do</td>\n",
       "      <td>ADP</td>\n",
       "      <td>Eu2</td>\n",
       "      <td>AdpType=Prep|Case=Gen</td>\n",
       "      <td>6</td>\n",
       "      <td>case</td>\n",
       "      <td>do obchodu</td>\n",
       "    </tr>\n",
       "    <tr>\n",
       "      <th>5</th>\n",
       "      <td>6</td>\n",
       "      <td>obchodu</td>\n",
       "      <td>obchod</td>\n",
       "      <td>NOUN</td>\n",
       "      <td>SSis2</td>\n",
       "      <td>Animacy=Inan|Case=Gen|Gender=Masc|Number=Sing</td>\n",
       "      <td>4</td>\n",
       "      <td>obl</td>\n",
       "      <td>obchodu predali</td>\n",
       "    </tr>\n",
       "    <tr>\n",
       "      <th>6</th>\n",
       "      <td>7</td>\n",
       "      <td>.</td>\n",
       "      <td>.</td>\n",
       "      <td>PUNCT</td>\n",
       "      <td>Z</td>\n",
       "      <td>_</td>\n",
       "      <td>4</td>\n",
       "      <td>punct</td>\n",
       "      <td>. predali</td>\n",
       "    </tr>\n",
       "  </tbody>\n",
       "</table>\n",
       "</div>"
      ],
      "text/plain": [
       "  poradove_cislo     slovo lema_slova univerzalna_znacka specificka_znacka  \\\n",
       "0              1  Spadnutú   Spadnutý                ADJ            AAfs4x   \n",
       "1              2    hrušku     hruška               NOUN             SSfs4   \n",
       "2              3    zelenú     zelený               NOUN             SFfs4   \n",
       "3              4   predali     predať               VERB           VLdpcf+   \n",
       "4              5        do         do                ADP               Eu2   \n",
       "5              6   obchodu     obchod               NOUN             SSis2   \n",
       "6              7         .          .              PUNCT                 Z   \n",
       "\n",
       "                                               feats head deprel  \\\n",
       "0         Case=Acc|Degree=Pos|Gender=Fem|Number=Sing    2   amod   \n",
       "1                    Case=Acc|Gender=Fem|Number=Sing    4    obj   \n",
       "2                    Case=Acc|Gender=Fem|Number=Sing    2   nmod   \n",
       "3  Aspect=Perf|Gender=Fem|Number=Plur|Polarity=Po...    0   root   \n",
       "4                              AdpType=Prep|Case=Gen    6   case   \n",
       "5      Animacy=Inan|Case=Gen|Gender=Masc|Number=Sing    4    obl   \n",
       "6                                                  _    4  punct   \n",
       "\n",
       "           dvojica  \n",
       "0  Spadnutú hrušku  \n",
       "1   hrušku predali  \n",
       "2    zelenú hrušku  \n",
       "3        predali .  \n",
       "4       do obchodu  \n",
       "5  obchodu predali  \n",
       "6        . predali  "
      ]
     },
     "execution_count": 233,
     "metadata": {},
     "output_type": "execute_result"
    }
   ],
   "source": [
    "del df['-']\n",
    "df"
   ]
  },
  {
   "cell_type": "code",
   "execution_count": 235,
   "id": "98dd916a",
   "metadata": {},
   "outputs": [],
   "source": [
    "zoznam_dvojic = df['dvojica'].to_list()"
   ]
  },
  {
   "cell_type": "code",
   "execution_count": 236,
   "id": "96ea5d88",
   "metadata": {},
   "outputs": [
    {
     "data": {
      "text/plain": [
       "['Spadnutú hrušku',\n",
       " 'hrušku predali',\n",
       " 'zelenú hrušku',\n",
       " 'predali .',\n",
       " 'do obchodu',\n",
       " 'obchodu predali',\n",
       " '. predali']"
      ]
     },
     "execution_count": 236,
     "metadata": {},
     "output_type": "execute_result"
    }
   ],
   "source": [
    "zoznam_dvojic"
   ]
  },
  {
   "cell_type": "code",
   "execution_count": null,
   "id": "14f2125a",
   "metadata": {},
   "outputs": [],
   "source": []
  }
 ],
 "metadata": {
  "kernelspec": {
   "display_name": "Python 3 (ipykernel)",
   "language": "python",
   "name": "python3"
  },
  "language_info": {
   "codemirror_mode": {
    "name": "ipython",
    "version": 3
   },
   "file_extension": ".py",
   "mimetype": "text/x-python",
   "name": "python",
   "nbconvert_exporter": "python",
   "pygments_lexer": "ipython3",
   "version": "3.9.13"
  }
 },
 "nbformat": 4,
 "nbformat_minor": 5
}
